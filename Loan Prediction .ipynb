{
 "cells": [
  {
   "cell_type": "markdown",
   "id": "89fda1f9",
   "metadata": {},
   "source": [
    "# Loan Prediction By using Python and Machine learning."
   ]
  },
  {
   "cell_type": "markdown",
   "id": "dc735a30",
   "metadata": {},
   "source": [
    "IMPORT LIBRARIES AS WELL AS DATASET"
   ]
  },
  {
   "cell_type": "code",
   "execution_count": 1,
   "id": "823c75da",
   "metadata": {},
   "outputs": [],
   "source": [
    "import pandas as pd\n",
    "import numpy as np\n",
    "import seaborn as sns\n",
    "import matplotlib.pyplot as plt\n",
    "import warnings\n",
    "import os\n",
    "%matplotlib inline\n",
    "warnings.filterwarnings('ignore')"
   ]
  },
  {
   "cell_type": "code",
   "execution_count": 2,
   "id": "4b7a70bd",
   "metadata": {},
   "outputs": [],
   "source": [
    "df = pd.read_csv(\"Desktop/loan_prediction.csv\")"
   ]
  },
  {
   "cell_type": "code",
   "execution_count": 3,
   "id": "aee8d2b3",
   "metadata": {},
   "outputs": [],
   "source": [
    "#Make a Copy of the Original dataset Which can help me in future \n",
    "df1 = df.copy(deep=True)\n",
    "df2 = df.copy(deep=True)"
   ]
  },
  {
   "cell_type": "code",
   "execution_count": 4,
   "id": "e3717a27",
   "metadata": {},
   "outputs": [
    {
     "data": {
      "text/html": [
       "<div>\n",
       "<style scoped>\n",
       "    .dataframe tbody tr th:only-of-type {\n",
       "        vertical-align: middle;\n",
       "    }\n",
       "\n",
       "    .dataframe tbody tr th {\n",
       "        vertical-align: top;\n",
       "    }\n",
       "\n",
       "    .dataframe thead th {\n",
       "        text-align: right;\n",
       "    }\n",
       "</style>\n",
       "<table border=\"1\" class=\"dataframe\">\n",
       "  <thead>\n",
       "    <tr style=\"text-align: right;\">\n",
       "      <th></th>\n",
       "      <th>Loan_ID</th>\n",
       "      <th>Gender</th>\n",
       "      <th>Married</th>\n",
       "      <th>Dependents</th>\n",
       "      <th>Education</th>\n",
       "      <th>Self_Employed</th>\n",
       "      <th>ApplicantIncome</th>\n",
       "      <th>CoapplicantIncome</th>\n",
       "      <th>LoanAmount</th>\n",
       "      <th>Loan_Amount_Term</th>\n",
       "      <th>Credit_History</th>\n",
       "      <th>Property_Area</th>\n",
       "      <th>Loan_Status</th>\n",
       "    </tr>\n",
       "  </thead>\n",
       "  <tbody>\n",
       "    <tr>\n",
       "      <th>0</th>\n",
       "      <td>LP001002</td>\n",
       "      <td>Male</td>\n",
       "      <td>No</td>\n",
       "      <td>0</td>\n",
       "      <td>Graduate</td>\n",
       "      <td>No</td>\n",
       "      <td>5849</td>\n",
       "      <td>0.0</td>\n",
       "      <td>NaN</td>\n",
       "      <td>360.0</td>\n",
       "      <td>1.0</td>\n",
       "      <td>Urban</td>\n",
       "      <td>Y</td>\n",
       "    </tr>\n",
       "    <tr>\n",
       "      <th>1</th>\n",
       "      <td>LP001003</td>\n",
       "      <td>Male</td>\n",
       "      <td>Yes</td>\n",
       "      <td>1</td>\n",
       "      <td>Graduate</td>\n",
       "      <td>No</td>\n",
       "      <td>4583</td>\n",
       "      <td>1508.0</td>\n",
       "      <td>128.0</td>\n",
       "      <td>360.0</td>\n",
       "      <td>1.0</td>\n",
       "      <td>Rural</td>\n",
       "      <td>N</td>\n",
       "    </tr>\n",
       "    <tr>\n",
       "      <th>2</th>\n",
       "      <td>LP001005</td>\n",
       "      <td>Male</td>\n",
       "      <td>Yes</td>\n",
       "      <td>0</td>\n",
       "      <td>Graduate</td>\n",
       "      <td>Yes</td>\n",
       "      <td>3000</td>\n",
       "      <td>0.0</td>\n",
       "      <td>66.0</td>\n",
       "      <td>360.0</td>\n",
       "      <td>1.0</td>\n",
       "      <td>Urban</td>\n",
       "      <td>Y</td>\n",
       "    </tr>\n",
       "    <tr>\n",
       "      <th>3</th>\n",
       "      <td>LP001006</td>\n",
       "      <td>Male</td>\n",
       "      <td>Yes</td>\n",
       "      <td>0</td>\n",
       "      <td>Not Graduate</td>\n",
       "      <td>No</td>\n",
       "      <td>2583</td>\n",
       "      <td>2358.0</td>\n",
       "      <td>120.0</td>\n",
       "      <td>360.0</td>\n",
       "      <td>1.0</td>\n",
       "      <td>Urban</td>\n",
       "      <td>Y</td>\n",
       "    </tr>\n",
       "    <tr>\n",
       "      <th>4</th>\n",
       "      <td>LP001008</td>\n",
       "      <td>Male</td>\n",
       "      <td>No</td>\n",
       "      <td>0</td>\n",
       "      <td>Graduate</td>\n",
       "      <td>No</td>\n",
       "      <td>6000</td>\n",
       "      <td>0.0</td>\n",
       "      <td>141.0</td>\n",
       "      <td>360.0</td>\n",
       "      <td>1.0</td>\n",
       "      <td>Urban</td>\n",
       "      <td>Y</td>\n",
       "    </tr>\n",
       "  </tbody>\n",
       "</table>\n",
       "</div>"
      ],
      "text/plain": [
       "    Loan_ID Gender Married Dependents     Education Self_Employed  \\\n",
       "0  LP001002   Male      No          0      Graduate            No   \n",
       "1  LP001003   Male     Yes          1      Graduate            No   \n",
       "2  LP001005   Male     Yes          0      Graduate           Yes   \n",
       "3  LP001006   Male     Yes          0  Not Graduate            No   \n",
       "4  LP001008   Male      No          0      Graduate            No   \n",
       "\n",
       "   ApplicantIncome  CoapplicantIncome  LoanAmount  Loan_Amount_Term  \\\n",
       "0             5849                0.0         NaN             360.0   \n",
       "1             4583             1508.0       128.0             360.0   \n",
       "2             3000                0.0        66.0             360.0   \n",
       "3             2583             2358.0       120.0             360.0   \n",
       "4             6000                0.0       141.0             360.0   \n",
       "\n",
       "   Credit_History Property_Area Loan_Status  \n",
       "0             1.0         Urban           Y  \n",
       "1             1.0         Rural           N  \n",
       "2             1.0         Urban           Y  \n",
       "3             1.0         Urban           Y  \n",
       "4             1.0         Urban           Y  "
      ]
     },
     "execution_count": 4,
     "metadata": {},
     "output_type": "execute_result"
    }
   ],
   "source": [
    "df.head()"
   ]
  },
  {
   "cell_type": "code",
   "execution_count": 5,
   "id": "9ad66c11",
   "metadata": {},
   "outputs": [
    {
     "data": {
      "text/html": [
       "<div>\n",
       "<style scoped>\n",
       "    .dataframe tbody tr th:only-of-type {\n",
       "        vertical-align: middle;\n",
       "    }\n",
       "\n",
       "    .dataframe tbody tr th {\n",
       "        vertical-align: top;\n",
       "    }\n",
       "\n",
       "    .dataframe thead th {\n",
       "        text-align: right;\n",
       "    }\n",
       "</style>\n",
       "<table border=\"1\" class=\"dataframe\">\n",
       "  <thead>\n",
       "    <tr style=\"text-align: right;\">\n",
       "      <th></th>\n",
       "      <th>Loan_ID</th>\n",
       "      <th>Gender</th>\n",
       "      <th>Married</th>\n",
       "      <th>Dependents</th>\n",
       "      <th>Education</th>\n",
       "      <th>Self_Employed</th>\n",
       "      <th>ApplicantIncome</th>\n",
       "      <th>CoapplicantIncome</th>\n",
       "      <th>LoanAmount</th>\n",
       "      <th>Loan_Amount_Term</th>\n",
       "      <th>Credit_History</th>\n",
       "      <th>Property_Area</th>\n",
       "      <th>Loan_Status</th>\n",
       "    </tr>\n",
       "  </thead>\n",
       "  <tbody>\n",
       "    <tr>\n",
       "      <th>609</th>\n",
       "      <td>LP002978</td>\n",
       "      <td>Female</td>\n",
       "      <td>No</td>\n",
       "      <td>0</td>\n",
       "      <td>Graduate</td>\n",
       "      <td>No</td>\n",
       "      <td>2900</td>\n",
       "      <td>0.0</td>\n",
       "      <td>71.0</td>\n",
       "      <td>360.0</td>\n",
       "      <td>1.0</td>\n",
       "      <td>Rural</td>\n",
       "      <td>Y</td>\n",
       "    </tr>\n",
       "    <tr>\n",
       "      <th>610</th>\n",
       "      <td>LP002979</td>\n",
       "      <td>Male</td>\n",
       "      <td>Yes</td>\n",
       "      <td>3+</td>\n",
       "      <td>Graduate</td>\n",
       "      <td>No</td>\n",
       "      <td>4106</td>\n",
       "      <td>0.0</td>\n",
       "      <td>40.0</td>\n",
       "      <td>180.0</td>\n",
       "      <td>1.0</td>\n",
       "      <td>Rural</td>\n",
       "      <td>Y</td>\n",
       "    </tr>\n",
       "    <tr>\n",
       "      <th>611</th>\n",
       "      <td>LP002983</td>\n",
       "      <td>Male</td>\n",
       "      <td>Yes</td>\n",
       "      <td>1</td>\n",
       "      <td>Graduate</td>\n",
       "      <td>No</td>\n",
       "      <td>8072</td>\n",
       "      <td>240.0</td>\n",
       "      <td>253.0</td>\n",
       "      <td>360.0</td>\n",
       "      <td>1.0</td>\n",
       "      <td>Urban</td>\n",
       "      <td>Y</td>\n",
       "    </tr>\n",
       "    <tr>\n",
       "      <th>612</th>\n",
       "      <td>LP002984</td>\n",
       "      <td>Male</td>\n",
       "      <td>Yes</td>\n",
       "      <td>2</td>\n",
       "      <td>Graduate</td>\n",
       "      <td>No</td>\n",
       "      <td>7583</td>\n",
       "      <td>0.0</td>\n",
       "      <td>187.0</td>\n",
       "      <td>360.0</td>\n",
       "      <td>1.0</td>\n",
       "      <td>Urban</td>\n",
       "      <td>Y</td>\n",
       "    </tr>\n",
       "    <tr>\n",
       "      <th>613</th>\n",
       "      <td>LP002990</td>\n",
       "      <td>Female</td>\n",
       "      <td>No</td>\n",
       "      <td>0</td>\n",
       "      <td>Graduate</td>\n",
       "      <td>Yes</td>\n",
       "      <td>4583</td>\n",
       "      <td>0.0</td>\n",
       "      <td>133.0</td>\n",
       "      <td>360.0</td>\n",
       "      <td>0.0</td>\n",
       "      <td>Semiurban</td>\n",
       "      <td>N</td>\n",
       "    </tr>\n",
       "  </tbody>\n",
       "</table>\n",
       "</div>"
      ],
      "text/plain": [
       "      Loan_ID  Gender Married Dependents Education Self_Employed  \\\n",
       "609  LP002978  Female      No          0  Graduate            No   \n",
       "610  LP002979    Male     Yes         3+  Graduate            No   \n",
       "611  LP002983    Male     Yes          1  Graduate            No   \n",
       "612  LP002984    Male     Yes          2  Graduate            No   \n",
       "613  LP002990  Female      No          0  Graduate           Yes   \n",
       "\n",
       "     ApplicantIncome  CoapplicantIncome  LoanAmount  Loan_Amount_Term  \\\n",
       "609             2900                0.0        71.0             360.0   \n",
       "610             4106                0.0        40.0             180.0   \n",
       "611             8072              240.0       253.0             360.0   \n",
       "612             7583                0.0       187.0             360.0   \n",
       "613             4583                0.0       133.0             360.0   \n",
       "\n",
       "     Credit_History Property_Area Loan_Status  \n",
       "609             1.0         Rural           Y  \n",
       "610             1.0         Rural           Y  \n",
       "611             1.0         Urban           Y  \n",
       "612             1.0         Urban           Y  \n",
       "613             0.0     Semiurban           N  "
      ]
     },
     "execution_count": 5,
     "metadata": {},
     "output_type": "execute_result"
    }
   ],
   "source": [
    "df.tail()"
   ]
  },
  {
   "cell_type": "markdown",
   "id": "1b912cd7",
   "metadata": {},
   "source": [
    "# DATA PREPROCESSING"
   ]
  },
  {
   "cell_type": "code",
   "execution_count": 6,
   "id": "da7b0f33",
   "metadata": {},
   "outputs": [
    {
     "data": {
      "text/plain": [
       "Loan_ID               0\n",
       "Gender               13\n",
       "Married               3\n",
       "Dependents           15\n",
       "Education             0\n",
       "Self_Employed        32\n",
       "ApplicantIncome       0\n",
       "CoapplicantIncome     0\n",
       "LoanAmount           22\n",
       "Loan_Amount_Term     14\n",
       "Credit_History       50\n",
       "Property_Area         0\n",
       "Loan_Status           0\n",
       "dtype: int64"
      ]
     },
     "execution_count": 6,
     "metadata": {},
     "output_type": "execute_result"
    }
   ],
   "source": [
    "#chaeking for the missing value\n",
    "df.isnull().sum()"
   ]
  },
  {
   "cell_type": "code",
   "execution_count": 7,
   "id": "06926e84",
   "metadata": {},
   "outputs": [
    {
     "name": "stdout",
     "output_type": "stream",
     "text": [
      "<class 'pandas.core.frame.DataFrame'>\n",
      "Int64Index: 614 entries, 0 to 613\n",
      "Data columns (total 13 columns):\n",
      " #   Column             Non-Null Count  Dtype  \n",
      "---  ------             --------------  -----  \n",
      " 0   Loan_ID            614 non-null    object \n",
      " 1   Gender             601 non-null    object \n",
      " 2   Married            611 non-null    object \n",
      " 3   Dependents         599 non-null    object \n",
      " 4   Education          614 non-null    object \n",
      " 5   Self_Employed      582 non-null    object \n",
      " 6   ApplicantIncome    614 non-null    int64  \n",
      " 7   CoapplicantIncome  614 non-null    float64\n",
      " 8   LoanAmount         592 non-null    float64\n",
      " 9   Loan_Amount_Term   600 non-null    float64\n",
      " 10  Credit_History     564 non-null    float64\n",
      " 11  Property_Area      614 non-null    object \n",
      " 12  Loan_Status        614 non-null    object \n",
      "dtypes: float64(4), int64(1), object(8)\n",
      "memory usage: 67.2+ KB\n"
     ]
    }
   ],
   "source": [
    "df.info()"
   ]
  },
  {
   "cell_type": "markdown",
   "id": "e7aac8de",
   "metadata": {},
   "source": [
    "Missing value Handling"
   ]
  },
  {
   "cell_type": "code",
   "execution_count": 8,
   "id": "3a6181de",
   "metadata": {},
   "outputs": [],
   "source": [
    "#In categorical data use Mode\n",
    "df[\"Gender\"] = df[\"Gender\"].fillna(df[\"Gender\"].mode().loc[0])\n",
    "df[\"Married\"] = df[\"Married\"].fillna(df[\"Married\"].mode().loc[0])\n",
    "df[\"Dependents\"] = df[\"Dependents\"].fillna(df[\"Dependents\"].mode().loc[0])\n",
    "df[\"Self_Employed\"] = df[\"Self_Employed\"].fillna(df[\"Self_Employed\"].loc[0])"
   ]
  },
  {
   "cell_type": "code",
   "execution_count": 9,
   "id": "f302a29f",
   "metadata": {},
   "outputs": [],
   "source": [
    "#In numerical data set use Mean/median\n",
    "df[\"LoanAmount\"] = df[\"LoanAmount\"].fillna(df[\"LoanAmount\"].mean())\n",
    "df[\"Loan_Amount_Term\"] = df[\"Loan_Amount_Term\"].fillna(df[\"Loan_Amount_Term\"].mean())\n",
    "df[\"Credit_History\"] = df[\"Credit_History\"].fillna(df[\"Credit_History\"].mean())"
   ]
  },
  {
   "cell_type": "code",
   "execution_count": 10,
   "id": "a1ea79c8",
   "metadata": {},
   "outputs": [
    {
     "data": {
      "text/plain": [
       "Loan_ID              0\n",
       "Gender               0\n",
       "Married              0\n",
       "Dependents           0\n",
       "Education            0\n",
       "Self_Employed        0\n",
       "ApplicantIncome      0\n",
       "CoapplicantIncome    0\n",
       "LoanAmount           0\n",
       "Loan_Amount_Term     0\n",
       "Credit_History       0\n",
       "Property_Area        0\n",
       "Loan_Status          0\n",
       "dtype: int64"
      ]
     },
     "execution_count": 10,
     "metadata": {},
     "output_type": "execute_result"
    }
   ],
   "source": [
    "df.isnull().sum()"
   ]
  },
  {
   "cell_type": "code",
   "execution_count": 11,
   "id": "8d9a213b",
   "metadata": {},
   "outputs": [
    {
     "data": {
      "text/plain": [
       "Index(['Loan_ID', 'Gender', 'Married', 'Dependents', 'Education',\n",
       "       'Self_Employed', 'ApplicantIncome', 'CoapplicantIncome', 'LoanAmount',\n",
       "       'Loan_Amount_Term', 'Credit_History', 'Property_Area', 'Loan_Status'],\n",
       "      dtype='object')"
      ]
     },
     "execution_count": 11,
     "metadata": {},
     "output_type": "execute_result"
    }
   ],
   "source": [
    "df.columns"
   ]
  },
  {
   "cell_type": "markdown",
   "id": "a58fc794",
   "metadata": {},
   "source": [
    "# EXPLORATORY DATA ANALYSIS"
   ]
  },
  {
   "cell_type": "code",
   "execution_count": 12,
   "id": "f41988c3",
   "metadata": {},
   "outputs": [],
   "source": [
    "#First Of all we seperate categorical and numerical data \n",
    "df_num = df.select_dtypes(include=\"number\")\n",
    "df_cat = df.select_dtypes(include=\"object\")"
   ]
  },
  {
   "cell_type": "code",
   "execution_count": 13,
   "id": "373b5f3d",
   "metadata": {},
   "outputs": [
    {
     "data": {
      "image/png": "[encoded data removed]",
      "text/plain": [
       "<Figure size 640x480 with 1 Axes>"
      ]
     },
     "metadata": {},
     "output_type": "display_data"
    },
    {
     "data": {
      "image/png": "[encoded data removed]",
      "text/plain": [
       "<Figure size 640x480 with 1 Axes>"
      ]
     },
     "metadata": {},
     "output_type": "display_data"
    },
    {
     "data": {
      "image/png": "[encoded data removed]",
      "text/plain": [
       "<Figure size 640x480 with 1 Axes>"
      ]
     },
     "metadata": {},
     "output_type": "display_data"
    },
    {
     "data": {
      "image/png": "[encoded data removed]",
      "text/plain": [
       "<Figure size 640x480 with 1 Axes>"
      ]
     },
     "metadata": {},
     "output_type": "display_data"
    },
    {
     "data": {
      "image/png": "[encoded data removed]",
      "text/plain": [
       "<Figure size 640x480 with 1 Axes>"
      ]
     },
     "metadata": {},
     "output_type": "display_data"
    }
   ],
   "source": [
    "#for numerical distrubition \n",
    "for i in df_num:\n",
    "    df_num.boxplot(column=i,patch_artist = True, notch ='True')\n",
    "    plt.ylabel(i)\n",
    "    plt.show()"
   ]
  },
  {
   "cell_type": "code",
   "execution_count": 14,
   "id": "d50347c3",
   "metadata": {},
   "outputs": [],
   "source": [
    "#we can see that in the numerical data has a outlier. So, we check distrubition of the numerical data"
   ]
  },
  {
   "cell_type": "code",
   "execution_count": 15,
   "id": "975265e7",
   "metadata": {},
   "outputs": [
    {
     "data": {
      "image/png": "[encoded data removed]",
      "text/plain": [
       "<Figure size 640x480 with 1 Axes>"
      ]
     },
     "metadata": {},
     "output_type": "display_data"
    },
    {
     "data": {
      "image/png": "[encoded data removed]",
      "text/plain": [
       "<Figure size 640x480 with 1 Axes>"
      ]
     },
     "metadata": {},
     "output_type": "display_data"
    },
    {
     "data": {
      "image/png": "[encoded data removed]",
      "text/plain": [
       "<Figure size 640x480 with 1 Axes>"
      ]
     },
     "metadata": {},
     "output_type": "display_data"
    },
    {
     "data": {
      "image/png": "[encoded data removed]",
      "text/plain": [
       "<Figure size 640x480 with 1 Axes>"
      ]
     },
     "metadata": {},
     "output_type": "display_data"
    },
    {
     "data": {
      "image/png": "[encoded data removed]",
      "text/plain": [
       "<Figure size 640x480 with 1 Axes>"
      ]
     },
     "metadata": {},
     "output_type": "display_data"
    }
   ],
   "source": [
    "for i in df_num:\n",
    "    sns.distplot(df[i], kde = True, color = 'green')\n",
    "    plt.show()"
   ]
  },
  {
   "cell_type": "code",
   "execution_count": 16,
   "id": "c4f2c9a8",
   "metadata": {},
   "outputs": [],
   "source": [
    "#we can see that in the dataset numerical distrubition in normal. "
   ]
  },
  {
   "cell_type": "code",
   "execution_count": 17,
   "id": "fa5f7891",
   "metadata": {},
   "outputs": [
    {
     "data": {
      "image/png": "[encoded data removed]",
      "text/plain": [
       "<Figure size 640x480 with 1 Axes>"
      ]
     },
     "metadata": {},
     "output_type": "display_data"
    },
    {
     "data": {
      "image/png": "[encoded data removed]",
      "text/plain": [
       "<Figure size 640x480 with 1 Axes>"
      ]
     },
     "metadata": {},
     "output_type": "display_data"
    },
    {
     "data": {
      "image/png": "[encoded data removed]",
      "text/plain": [
       "<Figure size 640x480 with 1 Axes>"
      ]
     },
     "metadata": {},
     "output_type": "display_data"
    },
    {
     "data": {
      "image/png": "[encoded data removed]",
      "text/plain": [
       "<Figure size 640x480 with 1 Axes>"
      ]
     },
     "metadata": {},
     "output_type": "display_data"
    },
    {
     "data": {
      "image/png": "[encoded data removed]",
      "text/plain": [
       "<Figure size 640x480 with 1 Axes>"
      ]
     },
     "metadata": {},
     "output_type": "display_data"
    }
   ],
   "source": [
    "#now we can check the numerical feature and target variable correlation. \n",
    "#This also helps in uncovering useful and actionable insights from the data.\n",
    "#One can also get the outliers from the scatterplots.\n",
    "for i in df_num:\n",
    "    sns.scatterplot(df, y=df[i], x=df[\"Loan_Status\"])\n",
    "    plt.show()"
   ]
  },
  {
   "cell_type": "code",
   "execution_count": 18,
   "id": "b08ee22c",
   "metadata": {},
   "outputs": [
    {
     "data": {
      "image/png": "[encoded data removed]",
      "text/plain": [
       "<Figure size 640x480 with 1 Axes>"
      ]
     },
     "metadata": {},
     "output_type": "display_data"
    },
    {
     "data": {
      "image/png": "[encoded data removed]",
      "text/plain": [
       "<Figure size 640x480 with 1 Axes>"
      ]
     },
     "metadata": {},
     "output_type": "display_data"
    },
    {
     "data": {
      "image/png": "[encoded data removed]",
      "text/plain": [
       "<Figure size 640x480 with 1 Axes>"
      ]
     },
     "metadata": {},
     "output_type": "display_data"
    },
    {
     "data": {
      "image/png": "[encoded data removed]",
      "text/plain": [
       "<Figure size 640x480 with 1 Axes>"
      ]
     },
     "metadata": {},
     "output_type": "display_data"
    },
    {
     "data": {
      "image/png": "[encoded data removed]",
      "text/plain": [
       "<Figure size 640x480 with 1 Axes>"
      ]
     },
     "metadata": {},
     "output_type": "display_data"
    },
    {
     "data": {
      "image/png": "[encoded data removed]",
      "text/plain": [
       "<Figure size 640x480 with 1 Axes>"
      ]
     },
     "metadata": {},
     "output_type": "display_data"
    },
    {
     "data": {
      "image/png": "[encoded data removed]",
      "text/plain": [
       "<Figure size 640x480 with 1 Axes>"
      ]
     },
     "metadata": {},
     "output_type": "display_data"
    },
    {
     "data": {
      "image/png": "[encoded data removed]",
      "text/plain": [
       "<Figure size 640x480 with 1 Axes>"
      ]
     },
     "metadata": {},
     "output_type": "display_data"
    }
   ],
   "source": [
    "#now let's have look on categorical data distrubition using countplot.\n",
    "for i in df_cat:\n",
    "    sns.countplot(x=df[i], palette = \"Spectral\")\n",
    "    plt.show()"
   ]
  },
  {
   "cell_type": "code",
   "execution_count": 19,
   "id": "d80bb76c",
   "metadata": {},
   "outputs": [],
   "source": [
    "#we can see that Male ratio is more than female candidate also married people are more compare to Unmarried people.\n",
    "#In this dataset Undependents are more compare to dependent.\n",
    "#Graduate people are more required of loan as compare to Non-graduate.\n",
    "#People are more required loan who has no-employment. And semiurban people more as compare to Urban and Rural"
   ]
  },
  {
   "cell_type": "markdown",
   "id": "8c825a68",
   "metadata": {},
   "source": [
    "Display and remove the duplicate rows in the Dataframe. \n",
    "Duplicate rows increase the computational time of the Machine Learning model and also result in falsely positive results."
   ]
  },
  {
   "cell_type": "code",
   "execution_count": 20,
   "id": "f39a6656",
   "metadata": {},
   "outputs": [
    {
     "data": {
      "text/html": [
       "<div>\n",
       "<style scoped>\n",
       "    .dataframe tbody tr th:only-of-type {\n",
       "        vertical-align: middle;\n",
       "    }\n",
       "\n",
       "    .dataframe tbody tr th {\n",
       "        vertical-align: top;\n",
       "    }\n",
       "\n",
       "    .dataframe thead th {\n",
       "        text-align: right;\n",
       "    }\n",
       "</style>\n",
       "<table border=\"1\" class=\"dataframe\">\n",
       "  <thead>\n",
       "    <tr style=\"text-align: right;\">\n",
       "      <th></th>\n",
       "      <th>Loan_ID</th>\n",
       "      <th>Gender</th>\n",
       "      <th>Married</th>\n",
       "      <th>Dependents</th>\n",
       "      <th>Education</th>\n",
       "      <th>Self_Employed</th>\n",
       "      <th>ApplicantIncome</th>\n",
       "      <th>CoapplicantIncome</th>\n",
       "      <th>LoanAmount</th>\n",
       "      <th>Loan_Amount_Term</th>\n",
       "      <th>Credit_History</th>\n",
       "      <th>Property_Area</th>\n",
       "      <th>Loan_Status</th>\n",
       "    </tr>\n",
       "  </thead>\n",
       "  <tbody>\n",
       "  </tbody>\n",
       "</table>\n",
       "</div>"
      ],
      "text/plain": [
       "Empty DataFrame\n",
       "Columns: [Loan_ID, Gender, Married, Dependents, Education, Self_Employed, ApplicantIncome, CoapplicantIncome, LoanAmount, Loan_Amount_Term, Credit_History, Property_Area, Loan_Status]\n",
       "Index: []"
      ]
     },
     "execution_count": 20,
     "metadata": {},
     "output_type": "execute_result"
    }
   ],
   "source": [
    "df[df.duplicated()]"
   ]
  },
  {
   "cell_type": "code",
   "execution_count": 21,
   "id": "e7e4d952",
   "metadata": {},
   "outputs": [],
   "source": [
    "#In this dataset have not duplicate."
   ]
  },
  {
   "cell_type": "markdown",
   "id": "f941138f",
   "metadata": {},
   "source": [
    "# Seperate data in X and Y as well as Split data into train and Test "
   ]
  },
  {
   "cell_type": "code",
   "execution_count": 22,
   "id": "c5fa1a10",
   "metadata": {},
   "outputs": [],
   "source": [
    "# I am using a df1 data which was copy of the original data set.\n",
    "x = df1.drop([\"Loan_ID\", \"Loan_Status\"], axis=1) # i am droping the loan_id columns because it is noise feature for the model.\n",
    "y = df1[\"Loan_Status\"] "
   ]
  },
  {
   "cell_type": "code",
   "execution_count": 23,
   "id": "bcaaf698",
   "metadata": {},
   "outputs": [],
   "source": [
    "#for train test split import neccasary library\n",
    "from sklearn.model_selection import train_test_split\n",
    "train_x, test_x, train_y, test_y = train_test_split(x, y, random_state=50, test_size=0.2, stratify=y)"
   ]
  },
  {
   "cell_type": "code",
   "execution_count": 24,
   "id": "875e6152",
   "metadata": {},
   "outputs": [
    {
     "data": {
      "text/html": [
       "<div>\n",
       "<style scoped>\n",
       "    .dataframe tbody tr th:only-of-type {\n",
       "        vertical-align: middle;\n",
       "    }\n",
       "\n",
       "    .dataframe tbody tr th {\n",
       "        vertical-align: top;\n",
       "    }\n",
       "\n",
       "    .dataframe thead th {\n",
       "        text-align: right;\n",
       "    }\n",
       "</style>\n",
       "<table border=\"1\" class=\"dataframe\">\n",
       "  <thead>\n",
       "    <tr style=\"text-align: right;\">\n",
       "      <th></th>\n",
       "      <th>Gender</th>\n",
       "      <th>Married</th>\n",
       "      <th>Dependents</th>\n",
       "      <th>Education</th>\n",
       "      <th>Self_Employed</th>\n",
       "      <th>ApplicantIncome</th>\n",
       "      <th>CoapplicantIncome</th>\n",
       "      <th>LoanAmount</th>\n",
       "      <th>Loan_Amount_Term</th>\n",
       "      <th>Credit_History</th>\n",
       "      <th>Property_Area</th>\n",
       "    </tr>\n",
       "  </thead>\n",
       "  <tbody>\n",
       "    <tr>\n",
       "      <th>570</th>\n",
       "      <td>Male</td>\n",
       "      <td>Yes</td>\n",
       "      <td>1</td>\n",
       "      <td>Graduate</td>\n",
       "      <td>No</td>\n",
       "      <td>3417</td>\n",
       "      <td>1750.0</td>\n",
       "      <td>186.0</td>\n",
       "      <td>360.0</td>\n",
       "      <td>1.0</td>\n",
       "      <td>Urban</td>\n",
       "    </tr>\n",
       "    <tr>\n",
       "      <th>554</th>\n",
       "      <td>Male</td>\n",
       "      <td>Yes</td>\n",
       "      <td>0</td>\n",
       "      <td>Graduate</td>\n",
       "      <td>No</td>\n",
       "      <td>3593</td>\n",
       "      <td>4266.0</td>\n",
       "      <td>132.0</td>\n",
       "      <td>180.0</td>\n",
       "      <td>0.0</td>\n",
       "      <td>Rural</td>\n",
       "    </tr>\n",
       "    <tr>\n",
       "      <th>508</th>\n",
       "      <td>Male</td>\n",
       "      <td>Yes</td>\n",
       "      <td>0</td>\n",
       "      <td>Graduate</td>\n",
       "      <td>Yes</td>\n",
       "      <td>2479</td>\n",
       "      <td>3013.0</td>\n",
       "      <td>188.0</td>\n",
       "      <td>360.0</td>\n",
       "      <td>1.0</td>\n",
       "      <td>Urban</td>\n",
       "    </tr>\n",
       "    <tr>\n",
       "      <th>99</th>\n",
       "      <td>Male</td>\n",
       "      <td>Yes</td>\n",
       "      <td>0</td>\n",
       "      <td>Graduate</td>\n",
       "      <td>No</td>\n",
       "      <td>1759</td>\n",
       "      <td>3541.0</td>\n",
       "      <td>131.0</td>\n",
       "      <td>360.0</td>\n",
       "      <td>1.0</td>\n",
       "      <td>Semiurban</td>\n",
       "    </tr>\n",
       "    <tr>\n",
       "      <th>318</th>\n",
       "      <td>Female</td>\n",
       "      <td>No</td>\n",
       "      <td>1</td>\n",
       "      <td>Graduate</td>\n",
       "      <td>No</td>\n",
       "      <td>3541</td>\n",
       "      <td>0.0</td>\n",
       "      <td>112.0</td>\n",
       "      <td>360.0</td>\n",
       "      <td>NaN</td>\n",
       "      <td>Semiurban</td>\n",
       "    </tr>\n",
       "    <tr>\n",
       "      <th>...</th>\n",
       "      <td>...</td>\n",
       "      <td>...</td>\n",
       "      <td>...</td>\n",
       "      <td>...</td>\n",
       "      <td>...</td>\n",
       "      <td>...</td>\n",
       "      <td>...</td>\n",
       "      <td>...</td>\n",
       "      <td>...</td>\n",
       "      <td>...</td>\n",
       "      <td>...</td>\n",
       "    </tr>\n",
       "    <tr>\n",
       "      <th>516</th>\n",
       "      <td>Female</td>\n",
       "      <td>Yes</td>\n",
       "      <td>2</td>\n",
       "      <td>Graduate</td>\n",
       "      <td>No</td>\n",
       "      <td>2031</td>\n",
       "      <td>1632.0</td>\n",
       "      <td>113.0</td>\n",
       "      <td>480.0</td>\n",
       "      <td>1.0</td>\n",
       "      <td>Semiurban</td>\n",
       "    </tr>\n",
       "    <tr>\n",
       "      <th>165</th>\n",
       "      <td>Male</td>\n",
       "      <td>Yes</td>\n",
       "      <td>0</td>\n",
       "      <td>Graduate</td>\n",
       "      <td>No</td>\n",
       "      <td>3707</td>\n",
       "      <td>3166.0</td>\n",
       "      <td>182.0</td>\n",
       "      <td>NaN</td>\n",
       "      <td>1.0</td>\n",
       "      <td>Rural</td>\n",
       "    </tr>\n",
       "    <tr>\n",
       "      <th>254</th>\n",
       "      <td>Male</td>\n",
       "      <td>No</td>\n",
       "      <td>0</td>\n",
       "      <td>Graduate</td>\n",
       "      <td>Yes</td>\n",
       "      <td>16250</td>\n",
       "      <td>0.0</td>\n",
       "      <td>192.0</td>\n",
       "      <td>360.0</td>\n",
       "      <td>0.0</td>\n",
       "      <td>Urban</td>\n",
       "    </tr>\n",
       "    <tr>\n",
       "      <th>119</th>\n",
       "      <td>Female</td>\n",
       "      <td>No</td>\n",
       "      <td>0</td>\n",
       "      <td>Graduate</td>\n",
       "      <td>No</td>\n",
       "      <td>10408</td>\n",
       "      <td>0.0</td>\n",
       "      <td>259.0</td>\n",
       "      <td>360.0</td>\n",
       "      <td>1.0</td>\n",
       "      <td>Urban</td>\n",
       "    </tr>\n",
       "    <tr>\n",
       "      <th>201</th>\n",
       "      <td>Male</td>\n",
       "      <td>No</td>\n",
       "      <td>2</td>\n",
       "      <td>Graduate</td>\n",
       "      <td>No</td>\n",
       "      <td>4923</td>\n",
       "      <td>0.0</td>\n",
       "      <td>166.0</td>\n",
       "      <td>360.0</td>\n",
       "      <td>0.0</td>\n",
       "      <td>Semiurban</td>\n",
       "    </tr>\n",
       "  </tbody>\n",
       "</table>\n",
       "<p>491 rows × 11 columns</p>\n",
       "</div>"
      ],
      "text/plain": [
       "     Gender Married Dependents Education Self_Employed  ApplicantIncome  \\\n",
       "570    Male     Yes          1  Graduate            No             3417   \n",
       "554    Male     Yes          0  Graduate            No             3593   \n",
       "508    Male     Yes          0  Graduate           Yes             2479   \n",
       "99     Male     Yes          0  Graduate            No             1759   \n",
       "318  Female      No          1  Graduate            No             3541   \n",
       "..      ...     ...        ...       ...           ...              ...   \n",
       "516  Female     Yes          2  Graduate            No             2031   \n",
       "165    Male     Yes          0  Graduate            No             3707   \n",
       "254    Male      No          0  Graduate           Yes            16250   \n",
       "119  Female      No          0  Graduate            No            10408   \n",
       "201    Male      No          2  Graduate            No             4923   \n",
       "\n",
       "     CoapplicantIncome  LoanAmount  Loan_Amount_Term  Credit_History  \\\n",
       "570             1750.0       186.0             360.0             1.0   \n",
       "554             4266.0       132.0             180.0             0.0   \n",
       "508             3013.0       188.0             360.0             1.0   \n",
       "99              3541.0       131.0             360.0             1.0   \n",
       "318                0.0       112.0             360.0             NaN   \n",
       "..                 ...         ...               ...             ...   \n",
       "516             1632.0       113.0             480.0             1.0   \n",
       "165             3166.0       182.0               NaN             1.0   \n",
       "254                0.0       192.0             360.0             0.0   \n",
       "119                0.0       259.0             360.0             1.0   \n",
       "201                0.0       166.0             360.0             0.0   \n",
       "\n",
       "    Property_Area  \n",
       "570         Urban  \n",
       "554         Rural  \n",
       "508         Urban  \n",
       "99      Semiurban  \n",
       "318     Semiurban  \n",
       "..            ...  \n",
       "516     Semiurban  \n",
       "165         Rural  \n",
       "254         Urban  \n",
       "119         Urban  \n",
       "201     Semiurban  \n",
       "\n",
       "[491 rows x 11 columns]"
      ]
     },
     "execution_count": 24,
     "metadata": {},
     "output_type": "execute_result"
    }
   ],
   "source": [
    "train_x"
   ]
  },
  {
   "cell_type": "code",
   "execution_count": 25,
   "id": "b2a5b75d",
   "metadata": {},
   "outputs": [
    {
     "data": {
      "text/plain": [
       "570    Y\n",
       "554    N\n",
       "508    Y\n",
       "99     Y\n",
       "318    Y\n",
       "      ..\n",
       "516    Y\n",
       "165    Y\n",
       "254    N\n",
       "119    Y\n",
       "201    Y\n",
       "Name: Loan_Status, Length: 491, dtype: object"
      ]
     },
     "execution_count": 25,
     "metadata": {},
     "output_type": "execute_result"
    }
   ],
   "source": [
    "train_y"
   ]
  },
  {
   "cell_type": "code",
   "execution_count": 26,
   "id": "798610e4",
   "metadata": {},
   "outputs": [],
   "source": [
    "#we can reset index\n",
    "train_x.reset_index(inplace=True, drop=True)\n",
    "test_x.reset_index(inplace=True, drop=True)\n",
    "\n",
    "train_y.reset_index(inplace=True, drop=True)\n",
    "test_y.reset_index(inplace=True, drop=True)"
   ]
  },
  {
   "cell_type": "code",
   "execution_count": 27,
   "id": "618a130c",
   "metadata": {},
   "outputs": [],
   "source": [
    "#for target variable we encoding it.\n",
    "from sklearn.preprocessing import LabelEncoder\n",
    "label = LabelEncoder()\n",
    "label.fit(train_y)\n",
    "train_y = label.transform(train_y)\n",
    "test_y = label.transform(test_y)"
   ]
  },
  {
   "cell_type": "code",
   "execution_count": 28,
   "id": "f8c9b85d",
   "metadata": {},
   "outputs": [
    {
     "data": {
      "text/plain": [
       "array([1, 0, 1, 1, 1, 1, 1, 1, 1, 1, 1, 1, 1, 0, 1, 1, 1, 0, 1, 0, 1, 1,\n",
       "       1, 0, 0, 1, 1, 0, 0, 1, 0, 0, 1, 0, 0, 1, 0, 0, 1, 1, 0, 1, 1, 1,\n",
       "       0, 1, 0, 1, 0, 0, 1, 1, 0, 0, 0, 0, 1, 0, 1, 0, 1, 1, 1, 1, 1, 1,\n",
       "       1, 1, 1, 1, 1, 0, 1, 0, 1, 1, 1, 1, 1, 0, 1, 1, 0, 1, 1, 0, 0, 0,\n",
       "       0, 0, 1, 0, 1, 1, 1, 0, 0, 1, 1, 1, 1, 1, 1, 1, 1, 1, 1, 1, 0, 0,\n",
       "       0, 1, 0, 1, 1, 0, 1, 1, 1, 0, 0, 1, 1, 1, 1, 1, 1, 1, 1, 1, 1, 1,\n",
       "       1, 0, 1, 1, 1, 1, 0, 0, 1, 0, 1, 1, 1, 1, 1, 1, 1, 1, 1, 0, 1, 1,\n",
       "       0, 1, 0, 1, 0, 1, 0, 1, 1, 1, 0, 1, 1, 0, 1, 1, 1, 1, 1, 1, 1, 1,\n",
       "       1, 1, 1, 1, 1, 1, 1, 1, 1, 0, 1, 1, 1, 1, 1, 0, 0, 1, 1, 1, 1, 0,\n",
       "       1, 0, 1, 1, 0, 1, 0, 1, 1, 1, 0, 1, 1, 1, 0, 1, 1, 1, 0, 1, 1, 1,\n",
       "       0, 0, 1, 1, 1, 0, 0, 0, 0, 1, 1, 1, 0, 0, 0, 1, 0, 0, 1, 1, 1, 0,\n",
       "       1, 1, 0, 1, 1, 1, 1, 1, 1, 1, 0, 1, 0, 0, 1, 0, 1, 1, 0, 1, 0, 1,\n",
       "       1, 0, 0, 0, 0, 1, 0, 1, 1, 0, 1, 1, 1, 0, 1, 1, 1, 1, 1, 0, 1, 0,\n",
       "       0, 1, 1, 1, 0, 1, 1, 1, 0, 1, 1, 1, 0, 0, 1, 1, 1, 1, 1, 1, 0, 1,\n",
       "       1, 1, 0, 0, 1, 1, 1, 1, 1, 1, 1, 0, 0, 0, 0, 1, 1, 1, 1, 0, 0, 0,\n",
       "       1, 0, 0, 1, 1, 0, 1, 1, 1, 1, 1, 1, 1, 1, 1, 0, 1, 1, 1, 1, 1, 0,\n",
       "       1, 1, 1, 1, 0, 1, 1, 0, 0, 1, 0, 1, 1, 1, 0, 1, 1, 1, 1, 1, 1, 1,\n",
       "       0, 1, 1, 1, 1, 1, 1, 1, 1, 1, 0, 1, 1, 1, 0, 1, 1, 0, 1, 1, 1, 0,\n",
       "       0, 1, 0, 1, 1, 1, 1, 1, 1, 0, 1, 1, 1, 1, 1, 0, 0, 0, 1, 1, 1, 0,\n",
       "       0, 1, 0, 1, 1, 1, 1, 1, 1, 1, 1, 1, 1, 0, 1, 1, 1, 0, 1, 1, 1, 0,\n",
       "       0, 0, 1, 0, 1, 1, 1, 1, 1, 0, 1, 1, 0, 1, 1, 1, 1, 0, 1, 0, 1, 0,\n",
       "       1, 0, 1, 1, 0, 0, 0, 0, 1, 0, 1, 1, 1, 0, 1, 0, 1, 0, 1, 0, 1, 1,\n",
       "       1, 1, 1, 1, 0, 1, 1])"
      ]
     },
     "execution_count": 28,
     "metadata": {},
     "output_type": "execute_result"
    }
   ],
   "source": [
    "train_y"
   ]
  },
  {
   "cell_type": "code",
   "execution_count": 29,
   "id": "b122ae09",
   "metadata": {},
   "outputs": [
    {
     "name": "stdout",
     "output_type": "stream",
     "text": [
      "['Y' 'N' 'Y' 'Y' 'Y' 'Y' 'Y' 'Y' 'Y' 'Y' 'Y' 'Y' 'Y' 'N' 'Y' 'Y' 'Y' 'N'\n",
      " 'Y' 'N' 'Y' 'Y' 'Y' 'N' 'N' 'Y' 'Y' 'N' 'N' 'Y' 'N' 'N' 'Y' 'N' 'N' 'Y'\n",
      " 'N' 'N' 'Y' 'Y' 'N' 'Y' 'Y' 'Y' 'N' 'Y' 'N' 'Y' 'N' 'N' 'Y' 'Y' 'N' 'N'\n",
      " 'N' 'N' 'Y' 'N' 'Y' 'N' 'Y' 'Y' 'Y' 'Y' 'Y' 'Y' 'Y' 'Y' 'Y' 'Y' 'Y' 'N'\n",
      " 'Y' 'N' 'Y' 'Y' 'Y' 'Y' 'Y' 'N' 'Y' 'Y' 'N' 'Y' 'Y' 'N' 'N' 'N' 'N' 'N'\n",
      " 'Y' 'N' 'Y' 'Y' 'Y' 'N' 'N' 'Y' 'Y' 'Y' 'Y' 'Y' 'Y' 'Y' 'Y' 'Y' 'Y' 'Y'\n",
      " 'N' 'N' 'N' 'Y' 'N' 'Y' 'Y' 'N' 'Y' 'Y' 'Y' 'N' 'N' 'Y' 'Y' 'Y' 'Y' 'Y'\n",
      " 'Y' 'Y' 'Y' 'Y' 'Y' 'Y' 'Y' 'N' 'Y' 'Y' 'Y' 'Y' 'N' 'N' 'Y' 'N' 'Y' 'Y'\n",
      " 'Y' 'Y' 'Y' 'Y' 'Y' 'Y' 'Y' 'N' 'Y' 'Y' 'N' 'Y' 'N' 'Y' 'N' 'Y' 'N' 'Y'\n",
      " 'Y' 'Y' 'N' 'Y' 'Y' 'N' 'Y' 'Y' 'Y' 'Y' 'Y' 'Y' 'Y' 'Y' 'Y' 'Y' 'Y' 'Y'\n",
      " 'Y' 'Y' 'Y' 'Y' 'Y' 'N' 'Y' 'Y' 'Y' 'Y' 'Y' 'N' 'N' 'Y' 'Y' 'Y' 'Y' 'N'\n",
      " 'Y' 'N' 'Y' 'Y' 'N' 'Y' 'N' 'Y' 'Y' 'Y' 'N' 'Y' 'Y' 'Y' 'N' 'Y' 'Y' 'Y'\n",
      " 'N' 'Y' 'Y' 'Y' 'N' 'N' 'Y' 'Y' 'Y' 'N' 'N' 'N' 'N' 'Y' 'Y' 'Y' 'N' 'N'\n",
      " 'N' 'Y' 'N' 'N' 'Y' 'Y' 'Y' 'N' 'Y' 'Y' 'N' 'Y' 'Y' 'Y' 'Y' 'Y' 'Y' 'Y'\n",
      " 'N' 'Y' 'N' 'N' 'Y' 'N' 'Y' 'Y' 'N' 'Y' 'N' 'Y' 'Y' 'N' 'N' 'N' 'N' 'Y'\n",
      " 'N' 'Y' 'Y' 'N' 'Y' 'Y' 'Y' 'N' 'Y' 'Y' 'Y' 'Y' 'Y' 'N' 'Y' 'N' 'N' 'Y'\n",
      " 'Y' 'Y' 'N' 'Y' 'Y' 'Y' 'N' 'Y' 'Y' 'Y' 'N' 'N' 'Y' 'Y' 'Y' 'Y' 'Y' 'Y'\n",
      " 'N' 'Y' 'Y' 'Y' 'N' 'N' 'Y' 'Y' 'Y' 'Y' 'Y' 'Y' 'Y' 'N' 'N' 'N' 'N' 'Y'\n",
      " 'Y' 'Y' 'Y' 'N' 'N' 'N' 'Y' 'N' 'N' 'Y' 'Y' 'N' 'Y' 'Y' 'Y' 'Y' 'Y' 'Y'\n",
      " 'Y' 'Y' 'Y' 'N' 'Y' 'Y' 'Y' 'Y' 'Y' 'N' 'Y' 'Y' 'Y' 'Y' 'N' 'Y' 'Y' 'N'\n",
      " 'N' 'Y' 'N' 'Y' 'Y' 'Y' 'N' 'Y' 'Y' 'Y' 'Y' 'Y' 'Y' 'Y' 'N' 'Y' 'Y' 'Y'\n",
      " 'Y' 'Y' 'Y' 'Y' 'Y' 'Y' 'N' 'Y' 'Y' 'Y' 'N' 'Y' 'Y' 'N' 'Y' 'Y' 'Y' 'N'\n",
      " 'N' 'Y' 'N' 'Y' 'Y' 'Y' 'Y' 'Y' 'Y' 'N' 'Y' 'Y' 'Y' 'Y' 'Y' 'N' 'N' 'N'\n",
      " 'Y' 'Y' 'Y' 'N' 'N' 'Y' 'N' 'Y' 'Y' 'Y' 'Y' 'Y' 'Y' 'Y' 'Y' 'Y' 'Y' 'N'\n",
      " 'Y' 'Y' 'Y' 'N' 'Y' 'Y' 'Y' 'N' 'N' 'N' 'Y' 'N' 'Y' 'Y' 'Y' 'Y' 'Y' 'N'\n",
      " 'Y' 'Y' 'N' 'Y' 'Y' 'Y' 'Y' 'N' 'Y' 'N' 'Y' 'N' 'Y' 'N' 'Y' 'Y' 'N' 'N'\n",
      " 'N' 'N' 'Y' 'N' 'Y' 'Y' 'Y' 'N' 'Y' 'N' 'Y' 'N' 'Y' 'N' 'Y' 'Y' 'Y' 'Y'\n",
      " 'Y' 'Y' 'N' 'Y' 'Y']\n"
     ]
    }
   ],
   "source": [
    "print(label.inverse_transform(train_y))"
   ]
  },
  {
   "cell_type": "markdown",
   "id": "6f1e010c",
   "metadata": {},
   "source": [
    "# Encoding using Catboost encoder"
   ]
  },
  {
   "cell_type": "code",
   "execution_count": 30,
   "id": "848b498d",
   "metadata": {},
   "outputs": [],
   "source": [
    "#for create encoding for input variables we can seperate dataof numerical and categorical\n",
    "train_cat = train_x.select_dtypes(include=\"object\")\n",
    "train_num = train_x.select_dtypes(include=\"number\")\n",
    "\n",
    "test_cat = test_x.select_dtypes(include=\"object\")\n",
    "test_num = test_x.select_dtypes(include=\"number\")"
   ]
  },
  {
   "cell_type": "code",
   "execution_count": 31,
   "id": "396a903b",
   "metadata": {},
   "outputs": [
    {
     "data": {
      "text/html": [
       "<div>\n",
       "<style scoped>\n",
       "    .dataframe tbody tr th:only-of-type {\n",
       "        vertical-align: middle;\n",
       "    }\n",
       "\n",
       "    .dataframe tbody tr th {\n",
       "        vertical-align: top;\n",
       "    }\n",
       "\n",
       "    .dataframe thead th {\n",
       "        text-align: right;\n",
       "    }\n",
       "</style>\n",
       "<table border=\"1\" class=\"dataframe\">\n",
       "  <thead>\n",
       "    <tr style=\"text-align: right;\">\n",
       "      <th></th>\n",
       "      <th>Gender</th>\n",
       "      <th>Married</th>\n",
       "      <th>Dependents</th>\n",
       "      <th>Education</th>\n",
       "      <th>Self_Employed</th>\n",
       "      <th>Property_Area</th>\n",
       "    </tr>\n",
       "  </thead>\n",
       "  <tbody>\n",
       "    <tr>\n",
       "      <th>0</th>\n",
       "      <td>Male</td>\n",
       "      <td>Yes</td>\n",
       "      <td>1</td>\n",
       "      <td>Graduate</td>\n",
       "      <td>No</td>\n",
       "      <td>Urban</td>\n",
       "    </tr>\n",
       "    <tr>\n",
       "      <th>1</th>\n",
       "      <td>Male</td>\n",
       "      <td>Yes</td>\n",
       "      <td>0</td>\n",
       "      <td>Graduate</td>\n",
       "      <td>No</td>\n",
       "      <td>Rural</td>\n",
       "    </tr>\n",
       "    <tr>\n",
       "      <th>2</th>\n",
       "      <td>Male</td>\n",
       "      <td>Yes</td>\n",
       "      <td>0</td>\n",
       "      <td>Graduate</td>\n",
       "      <td>Yes</td>\n",
       "      <td>Urban</td>\n",
       "    </tr>\n",
       "    <tr>\n",
       "      <th>3</th>\n",
       "      <td>Male</td>\n",
       "      <td>Yes</td>\n",
       "      <td>0</td>\n",
       "      <td>Graduate</td>\n",
       "      <td>No</td>\n",
       "      <td>Semiurban</td>\n",
       "    </tr>\n",
       "    <tr>\n",
       "      <th>4</th>\n",
       "      <td>Female</td>\n",
       "      <td>No</td>\n",
       "      <td>1</td>\n",
       "      <td>Graduate</td>\n",
       "      <td>No</td>\n",
       "      <td>Semiurban</td>\n",
       "    </tr>\n",
       "    <tr>\n",
       "      <th>...</th>\n",
       "      <td>...</td>\n",
       "      <td>...</td>\n",
       "      <td>...</td>\n",
       "      <td>...</td>\n",
       "      <td>...</td>\n",
       "      <td>...</td>\n",
       "    </tr>\n",
       "    <tr>\n",
       "      <th>486</th>\n",
       "      <td>Female</td>\n",
       "      <td>Yes</td>\n",
       "      <td>2</td>\n",
       "      <td>Graduate</td>\n",
       "      <td>No</td>\n",
       "      <td>Semiurban</td>\n",
       "    </tr>\n",
       "    <tr>\n",
       "      <th>487</th>\n",
       "      <td>Male</td>\n",
       "      <td>Yes</td>\n",
       "      <td>0</td>\n",
       "      <td>Graduate</td>\n",
       "      <td>No</td>\n",
       "      <td>Rural</td>\n",
       "    </tr>\n",
       "    <tr>\n",
       "      <th>488</th>\n",
       "      <td>Male</td>\n",
       "      <td>No</td>\n",
       "      <td>0</td>\n",
       "      <td>Graduate</td>\n",
       "      <td>Yes</td>\n",
       "      <td>Urban</td>\n",
       "    </tr>\n",
       "    <tr>\n",
       "      <th>489</th>\n",
       "      <td>Female</td>\n",
       "      <td>No</td>\n",
       "      <td>0</td>\n",
       "      <td>Graduate</td>\n",
       "      <td>No</td>\n",
       "      <td>Urban</td>\n",
       "    </tr>\n",
       "    <tr>\n",
       "      <th>490</th>\n",
       "      <td>Male</td>\n",
       "      <td>No</td>\n",
       "      <td>2</td>\n",
       "      <td>Graduate</td>\n",
       "      <td>No</td>\n",
       "      <td>Semiurban</td>\n",
       "    </tr>\n",
       "  </tbody>\n",
       "</table>\n",
       "<p>491 rows × 6 columns</p>\n",
       "</div>"
      ],
      "text/plain": [
       "     Gender Married Dependents Education Self_Employed Property_Area\n",
       "0      Male     Yes          1  Graduate            No         Urban\n",
       "1      Male     Yes          0  Graduate            No         Rural\n",
       "2      Male     Yes          0  Graduate           Yes         Urban\n",
       "3      Male     Yes          0  Graduate            No     Semiurban\n",
       "4    Female      No          1  Graduate            No     Semiurban\n",
       "..      ...     ...        ...       ...           ...           ...\n",
       "486  Female     Yes          2  Graduate            No     Semiurban\n",
       "487    Male     Yes          0  Graduate            No         Rural\n",
       "488    Male      No          0  Graduate           Yes         Urban\n",
       "489  Female      No          0  Graduate            No         Urban\n",
       "490    Male      No          2  Graduate            No     Semiurban\n",
       "\n",
       "[491 rows x 6 columns]"
      ]
     },
     "execution_count": 31,
     "metadata": {},
     "output_type": "execute_result"
    }
   ],
   "source": [
    "train_cat"
   ]
  },
  {
   "cell_type": "code",
   "execution_count": 32,
   "id": "0ef9ada5",
   "metadata": {},
   "outputs": [
    {
     "data": {
      "text/plain": [
       "Gender           11\n",
       "Married           3\n",
       "Dependents       13\n",
       "Education         0\n",
       "Self_Employed    29\n",
       "Property_Area     0\n",
       "dtype: int64"
      ]
     },
     "execution_count": 32,
     "metadata": {},
     "output_type": "execute_result"
    }
   ],
   "source": [
    "#First we check null value of dataset. If have then first impute null value.\n",
    "train_cat.isnull().sum()"
   ]
  },
  {
   "cell_type": "code",
   "execution_count": 33,
   "id": "1584948a",
   "metadata": {},
   "outputs": [
    {
     "data": {
      "text/plain": [
       "ApplicantIncome       0\n",
       "CoapplicantIncome     0\n",
       "LoanAmount           19\n",
       "Loan_Amount_Term     12\n",
       "Credit_History       38\n",
       "dtype: int64"
      ]
     },
     "execution_count": 33,
     "metadata": {},
     "output_type": "execute_result"
    }
   ],
   "source": [
    "train_num.isnull().sum()"
   ]
  },
  {
   "cell_type": "code",
   "execution_count": 34,
   "id": "7b511618",
   "metadata": {},
   "outputs": [
    {
     "data": {
      "text/plain": [
       "Gender           2\n",
       "Married          0\n",
       "Dependents       2\n",
       "Education        0\n",
       "Self_Employed    3\n",
       "Property_Area    0\n",
       "dtype: int64"
      ]
     },
     "execution_count": 34,
     "metadata": {},
     "output_type": "execute_result"
    }
   ],
   "source": [
    "test_cat.isnull().sum()"
   ]
  },
  {
   "cell_type": "code",
   "execution_count": 35,
   "id": "0fd9f885",
   "metadata": {},
   "outputs": [
    {
     "data": {
      "text/plain": [
       "ApplicantIncome       0\n",
       "CoapplicantIncome     0\n",
       "LoanAmount            3\n",
       "Loan_Amount_Term      2\n",
       "Credit_History       12\n",
       "dtype: int64"
      ]
     },
     "execution_count": 35,
     "metadata": {},
     "output_type": "execute_result"
    }
   ],
   "source": [
    "test_num.isnull().sum()"
   ]
  },
  {
   "cell_type": "code",
   "execution_count": 36,
   "id": "c2ad9833",
   "metadata": {},
   "outputs": [
    {
     "name": "stdout",
     "output_type": "stream",
     "text": [
      "Gender           0\n",
      "Married          0\n",
      "Dependents       0\n",
      "Education        0\n",
      "Self_Employed    0\n",
      "Property_Area    0\n",
      "dtype: int64\n"
     ]
    }
   ],
   "source": [
    "train_cat.fillna(train_cat.mode().loc[0], inplace = True)\n",
    "print(train_cat.isnull().sum())"
   ]
  },
  {
   "cell_type": "code",
   "execution_count": 37,
   "id": "521de513",
   "metadata": {},
   "outputs": [
    {
     "name": "stdout",
     "output_type": "stream",
     "text": [
      "ApplicantIncome      0\n",
      "CoapplicantIncome    0\n",
      "LoanAmount           0\n",
      "Loan_Amount_Term     0\n",
      "Credit_History       0\n",
      "dtype: int64\n"
     ]
    }
   ],
   "source": [
    "train_num.fillna(train_num.mean(), inplace = True)\n",
    "print(train_num.isnull().sum())"
   ]
  },
  {
   "cell_type": "code",
   "execution_count": 38,
   "id": "5d1b22ea",
   "metadata": {},
   "outputs": [
    {
     "name": "stdout",
     "output_type": "stream",
     "text": [
      "Gender           0\n",
      "Married          0\n",
      "Dependents       0\n",
      "Education        0\n",
      "Self_Employed    0\n",
      "Property_Area    0\n",
      "dtype: int64\n"
     ]
    }
   ],
   "source": [
    "test_cat.fillna(train_cat.mode().loc[0], inplace = True)\n",
    "print(test_cat.isnull().sum())"
   ]
  },
  {
   "cell_type": "code",
   "execution_count": 39,
   "id": "333a3dba",
   "metadata": {},
   "outputs": [
    {
     "name": "stdout",
     "output_type": "stream",
     "text": [
      "ApplicantIncome      0\n",
      "CoapplicantIncome    0\n",
      "LoanAmount           0\n",
      "Loan_Amount_Term     0\n",
      "Credit_History       0\n",
      "dtype: int64\n"
     ]
    }
   ],
   "source": [
    "test_num.fillna(train_num.mean(), inplace=True)\n",
    "print(test_num.isnull().sum())"
   ]
  },
  {
   "cell_type": "code",
   "execution_count": 40,
   "id": "53cb8a75",
   "metadata": {},
   "outputs": [
    {
     "data": {
      "text/html": [
       "<style>#sk-container-id-1 {color: black;background-color: white;}#sk-container-id-1 pre{padding: 0;}#sk-container-id-1 div.sk-toggleable {background-color: white;}#sk-container-id-1 label.sk-toggleable__label {cursor: pointer;display: block;width: 100%;margin-bottom: 0;padding: 0.3em;box-sizing: border-box;text-align: center;}#sk-container-id-1 label.sk-toggleable__label-arrow:before {content: \"▸\";float: left;margin-right: 0.25em;color: #696969;}#sk-container-id-1 label.sk-toggleable__label-arrow:hover:before {color: black;}#sk-container-id-1 div.sk-estimator:hover label.sk-toggleable__label-arrow:before {color: black;}#sk-container-id-1 div.sk-toggleable__content {max-height: 0;max-width: 0;overflow: hidden;text-align: left;background-color: #f0f8ff;}#sk-container-id-1 div.sk-toggleable__content pre {margin: 0.2em;color: black;border-radius: 0.25em;background-color: #f0f8ff;}#sk-container-id-1 input.sk-toggleable__control:checked~div.sk-toggleable__content {max-height: 200px;max-width: 100%;overflow: auto;}#sk-container-id-1 input.sk-toggleable__control:checked~label.sk-toggleable__label-arrow:before {content: \"▾\";}#sk-container-id-1 div.sk-estimator input.sk-toggleable__control:checked~label.sk-toggleable__label {background-color: #d4ebff;}#sk-container-id-1 div.sk-label input.sk-toggleable__control:checked~label.sk-toggleable__label {background-color: #d4ebff;}#sk-container-id-1 input.sk-hidden--visually {border: 0;clip: rect(1px 1px 1px 1px);clip: rect(1px, 1px, 1px, 1px);height: 1px;margin: -1px;overflow: hidden;padding: 0;position: absolute;width: 1px;}#sk-container-id-1 div.sk-estimator {font-family: monospace;background-color: #f0f8ff;border: 1px dotted black;border-radius: 0.25em;box-sizing: border-box;margin-bottom: 0.5em;}#sk-container-id-1 div.sk-estimator:hover {background-color: #d4ebff;}#sk-container-id-1 div.sk-parallel-item::after {content: \"\";width: 100%;border-bottom: 1px solid gray;flex-grow: 1;}#sk-container-id-1 div.sk-label:hover label.sk-toggleable__label {background-color: #d4ebff;}#sk-container-id-1 div.sk-serial::before {content: \"\";position: absolute;border-left: 1px solid gray;box-sizing: border-box;top: 0;bottom: 0;left: 50%;z-index: 0;}#sk-container-id-1 div.sk-serial {display: flex;flex-direction: column;align-items: center;background-color: white;padding-right: 0.2em;padding-left: 0.2em;position: relative;}#sk-container-id-1 div.sk-item {position: relative;z-index: 1;}#sk-container-id-1 div.sk-parallel {display: flex;align-items: stretch;justify-content: center;background-color: white;position: relative;}#sk-container-id-1 div.sk-item::before, #sk-container-id-1 div.sk-parallel-item::before {content: \"\";position: absolute;border-left: 1px solid gray;box-sizing: border-box;top: 0;bottom: 0;left: 50%;z-index: -1;}#sk-container-id-1 div.sk-parallel-item {display: flex;flex-direction: column;z-index: 1;position: relative;background-color: white;}#sk-container-id-1 div.sk-parallel-item:first-child::after {align-self: flex-end;width: 50%;}#sk-container-id-1 div.sk-parallel-item:last-child::after {align-self: flex-start;width: 50%;}#sk-container-id-1 div.sk-parallel-item:only-child::after {width: 0;}#sk-container-id-1 div.sk-dashed-wrapped {border: 1px dashed gray;margin: 0 0.4em 0.5em 0.4em;box-sizing: border-box;padding-bottom: 0.4em;background-color: white;}#sk-container-id-1 div.sk-label label {font-family: monospace;font-weight: bold;display: inline-block;line-height: 1.2em;}#sk-container-id-1 div.sk-label-container {text-align: center;}#sk-container-id-1 div.sk-container {/* jupyter's `normalize.less` sets `[hidden] { display: none; }` but bootstrap.min.css set `[hidden] { display: none !important; }` so we also need the `!important` here to be able to override the default hidden behavior on the sphinx rendered scikit-learn.org. See: https://github.com/scikit-learn/scikit-learn/issues/21755 */display: inline-block !important;position: relative;}#sk-container-id-1 div.sk-text-repr-fallback {display: none;}</style><div id=\"sk-container-id-1\" class=\"sk-top-container\"><div class=\"sk-text-repr-fallback\"><pre>LeaveOneOutEncoder(cols=[&#x27;Gender&#x27;, &#x27;Married&#x27;, &#x27;Dependents&#x27;, &#x27;Education&#x27;,\n",
       "                         &#x27;Self_Employed&#x27;, &#x27;Property_Area&#x27;])</pre><b>In a Jupyter environment, please rerun this cell to show the HTML representation or trust the notebook. <br />On GitHub, the HTML representation is unable to render, please try loading this page with nbviewer.org.</b></div><div class=\"sk-container\" hidden><div class=\"sk-item\"><div class=\"sk-estimator sk-toggleable\"><input class=\"sk-toggleable__control sk-hidden--visually\" id=\"sk-estimator-id-1\" type=\"checkbox\" checked><label for=\"sk-estimator-id-1\" class=\"sk-toggleable__label sk-toggleable__label-arrow\">LeaveOneOutEncoder</label><div class=\"sk-toggleable__content\"><pre>LeaveOneOutEncoder(cols=[&#x27;Gender&#x27;, &#x27;Married&#x27;, &#x27;Dependents&#x27;, &#x27;Education&#x27;,\n",
       "                         &#x27;Self_Employed&#x27;, &#x27;Property_Area&#x27;])</pre></div></div></div></div></div>"
      ],
      "text/plain": [
       "LeaveOneOutEncoder(cols=['Gender', 'Married', 'Dependents', 'Education',\n",
       "                         'Self_Employed', 'Property_Area'])"
      ]
     },
     "execution_count": 40,
     "metadata": {},
     "output_type": "execute_result"
    }
   ],
   "source": [
    "import category_encoders as ce\n",
    "encoder = ce.LeaveOneOutEncoder()\n",
    "encoder.fit(train_cat, train_y)"
   ]
  },
  {
   "cell_type": "code",
   "execution_count": 41,
   "id": "900de8ae",
   "metadata": {},
   "outputs": [],
   "source": [
    "train_cat = encoder.transform(train_cat)\n",
    "test_cat = encoder.transform(test_cat)"
   ]
  },
  {
   "cell_type": "code",
   "execution_count": 42,
   "id": "dca9bc1a",
   "metadata": {},
   "outputs": [
    {
     "data": {
      "text/html": [
       "<div>\n",
       "<style scoped>\n",
       "    .dataframe tbody tr th:only-of-type {\n",
       "        vertical-align: middle;\n",
       "    }\n",
       "\n",
       "    .dataframe tbody tr th {\n",
       "        vertical-align: top;\n",
       "    }\n",
       "\n",
       "    .dataframe thead th {\n",
       "        text-align: right;\n",
       "    }\n",
       "</style>\n",
       "<table border=\"1\" class=\"dataframe\">\n",
       "  <thead>\n",
       "    <tr style=\"text-align: right;\">\n",
       "      <th></th>\n",
       "      <th>Gender</th>\n",
       "      <th>Married</th>\n",
       "      <th>Dependents</th>\n",
       "      <th>Education</th>\n",
       "      <th>Self_Employed</th>\n",
       "      <th>Property_Area</th>\n",
       "    </tr>\n",
       "  </thead>\n",
       "  <tbody>\n",
       "    <tr>\n",
       "      <th>0</th>\n",
       "      <td>0.690594</td>\n",
       "      <td>0.722222</td>\n",
       "      <td>0.649351</td>\n",
       "      <td>0.701031</td>\n",
       "      <td>0.684086</td>\n",
       "      <td>0.660256</td>\n",
       "    </tr>\n",
       "    <tr>\n",
       "      <th>1</th>\n",
       "      <td>0.690594</td>\n",
       "      <td>0.722222</td>\n",
       "      <td>0.680556</td>\n",
       "      <td>0.701031</td>\n",
       "      <td>0.684086</td>\n",
       "      <td>0.613333</td>\n",
       "    </tr>\n",
       "    <tr>\n",
       "      <th>2</th>\n",
       "      <td>0.690594</td>\n",
       "      <td>0.722222</td>\n",
       "      <td>0.680556</td>\n",
       "      <td>0.701031</td>\n",
       "      <td>0.700000</td>\n",
       "      <td>0.660256</td>\n",
       "    </tr>\n",
       "    <tr>\n",
       "      <th>3</th>\n",
       "      <td>0.690594</td>\n",
       "      <td>0.722222</td>\n",
       "      <td>0.680556</td>\n",
       "      <td>0.701031</td>\n",
       "      <td>0.684086</td>\n",
       "      <td>0.767568</td>\n",
       "    </tr>\n",
       "    <tr>\n",
       "      <th>4</th>\n",
       "      <td>0.666667</td>\n",
       "      <td>0.616766</td>\n",
       "      <td>0.649351</td>\n",
       "      <td>0.701031</td>\n",
       "      <td>0.684086</td>\n",
       "      <td>0.767568</td>\n",
       "    </tr>\n",
       "    <tr>\n",
       "      <th>...</th>\n",
       "      <td>...</td>\n",
       "      <td>...</td>\n",
       "      <td>...</td>\n",
       "      <td>...</td>\n",
       "      <td>...</td>\n",
       "      <td>...</td>\n",
       "    </tr>\n",
       "    <tr>\n",
       "      <th>486</th>\n",
       "      <td>0.666667</td>\n",
       "      <td>0.722222</td>\n",
       "      <td>0.759036</td>\n",
       "      <td>0.701031</td>\n",
       "      <td>0.684086</td>\n",
       "      <td>0.767568</td>\n",
       "    </tr>\n",
       "    <tr>\n",
       "      <th>487</th>\n",
       "      <td>0.690594</td>\n",
       "      <td>0.722222</td>\n",
       "      <td>0.680556</td>\n",
       "      <td>0.701031</td>\n",
       "      <td>0.684086</td>\n",
       "      <td>0.613333</td>\n",
       "    </tr>\n",
       "    <tr>\n",
       "      <th>488</th>\n",
       "      <td>0.690594</td>\n",
       "      <td>0.616766</td>\n",
       "      <td>0.680556</td>\n",
       "      <td>0.701031</td>\n",
       "      <td>0.700000</td>\n",
       "      <td>0.660256</td>\n",
       "    </tr>\n",
       "    <tr>\n",
       "      <th>489</th>\n",
       "      <td>0.666667</td>\n",
       "      <td>0.616766</td>\n",
       "      <td>0.680556</td>\n",
       "      <td>0.701031</td>\n",
       "      <td>0.684086</td>\n",
       "      <td>0.660256</td>\n",
       "    </tr>\n",
       "    <tr>\n",
       "      <th>490</th>\n",
       "      <td>0.690594</td>\n",
       "      <td>0.616766</td>\n",
       "      <td>0.759036</td>\n",
       "      <td>0.701031</td>\n",
       "      <td>0.684086</td>\n",
       "      <td>0.767568</td>\n",
       "    </tr>\n",
       "  </tbody>\n",
       "</table>\n",
       "<p>491 rows × 6 columns</p>\n",
       "</div>"
      ],
      "text/plain": [
       "       Gender   Married  Dependents  Education  Self_Employed  Property_Area\n",
       "0    0.690594  0.722222    0.649351   0.701031       0.684086       0.660256\n",
       "1    0.690594  0.722222    0.680556   0.701031       0.684086       0.613333\n",
       "2    0.690594  0.722222    0.680556   0.701031       0.700000       0.660256\n",
       "3    0.690594  0.722222    0.680556   0.701031       0.684086       0.767568\n",
       "4    0.666667  0.616766    0.649351   0.701031       0.684086       0.767568\n",
       "..        ...       ...         ...        ...            ...            ...\n",
       "486  0.666667  0.722222    0.759036   0.701031       0.684086       0.767568\n",
       "487  0.690594  0.722222    0.680556   0.701031       0.684086       0.613333\n",
       "488  0.690594  0.616766    0.680556   0.701031       0.700000       0.660256\n",
       "489  0.666667  0.616766    0.680556   0.701031       0.684086       0.660256\n",
       "490  0.690594  0.616766    0.759036   0.701031       0.684086       0.767568\n",
       "\n",
       "[491 rows x 6 columns]"
      ]
     },
     "execution_count": 42,
     "metadata": {},
     "output_type": "execute_result"
    }
   ],
   "source": [
    "train_cat"
   ]
  },
  {
   "cell_type": "code",
   "execution_count": 43,
   "id": "d19d7096",
   "metadata": {},
   "outputs": [],
   "source": [
    "# Now, we concat the both categorical and numerical data\n",
    "train_x1 = pd.concat([train_num, train_cat], axis=1)\n",
    "test_x1 = pd.concat([test_num, test_cat], axis=1)"
   ]
  },
  {
   "cell_type": "code",
   "execution_count": 44,
   "id": "b1bc7546",
   "metadata": {},
   "outputs": [
    {
     "data": {
      "text/html": [
       "<div>\n",
       "<style scoped>\n",
       "    .dataframe tbody tr th:only-of-type {\n",
       "        vertical-align: middle;\n",
       "    }\n",
       "\n",
       "    .dataframe tbody tr th {\n",
       "        vertical-align: top;\n",
       "    }\n",
       "\n",
       "    .dataframe thead th {\n",
       "        text-align: right;\n",
       "    }\n",
       "</style>\n",
       "<table border=\"1\" class=\"dataframe\">\n",
       "  <thead>\n",
       "    <tr style=\"text-align: right;\">\n",
       "      <th></th>\n",
       "      <th>ApplicantIncome</th>\n",
       "      <th>CoapplicantIncome</th>\n",
       "      <th>LoanAmount</th>\n",
       "      <th>Loan_Amount_Term</th>\n",
       "      <th>Credit_History</th>\n",
       "      <th>Gender</th>\n",
       "      <th>Married</th>\n",
       "      <th>Dependents</th>\n",
       "      <th>Education</th>\n",
       "      <th>Self_Employed</th>\n",
       "      <th>Property_Area</th>\n",
       "    </tr>\n",
       "  </thead>\n",
       "  <tbody>\n",
       "    <tr>\n",
       "      <th>0</th>\n",
       "      <td>3417</td>\n",
       "      <td>1750.0</td>\n",
       "      <td>186.0</td>\n",
       "      <td>360.000000</td>\n",
       "      <td>1.000000</td>\n",
       "      <td>0.690594</td>\n",
       "      <td>0.722222</td>\n",
       "      <td>0.649351</td>\n",
       "      <td>0.701031</td>\n",
       "      <td>0.684086</td>\n",
       "      <td>0.660256</td>\n",
       "    </tr>\n",
       "    <tr>\n",
       "      <th>1</th>\n",
       "      <td>3593</td>\n",
       "      <td>4266.0</td>\n",
       "      <td>132.0</td>\n",
       "      <td>180.000000</td>\n",
       "      <td>0.000000</td>\n",
       "      <td>0.690594</td>\n",
       "      <td>0.722222</td>\n",
       "      <td>0.680556</td>\n",
       "      <td>0.701031</td>\n",
       "      <td>0.684086</td>\n",
       "      <td>0.613333</td>\n",
       "    </tr>\n",
       "    <tr>\n",
       "      <th>2</th>\n",
       "      <td>2479</td>\n",
       "      <td>3013.0</td>\n",
       "      <td>188.0</td>\n",
       "      <td>360.000000</td>\n",
       "      <td>1.000000</td>\n",
       "      <td>0.690594</td>\n",
       "      <td>0.722222</td>\n",
       "      <td>0.680556</td>\n",
       "      <td>0.701031</td>\n",
       "      <td>0.700000</td>\n",
       "      <td>0.660256</td>\n",
       "    </tr>\n",
       "    <tr>\n",
       "      <th>3</th>\n",
       "      <td>1759</td>\n",
       "      <td>3541.0</td>\n",
       "      <td>131.0</td>\n",
       "      <td>360.000000</td>\n",
       "      <td>1.000000</td>\n",
       "      <td>0.690594</td>\n",
       "      <td>0.722222</td>\n",
       "      <td>0.680556</td>\n",
       "      <td>0.701031</td>\n",
       "      <td>0.684086</td>\n",
       "      <td>0.767568</td>\n",
       "    </tr>\n",
       "    <tr>\n",
       "      <th>4</th>\n",
       "      <td>3541</td>\n",
       "      <td>0.0</td>\n",
       "      <td>112.0</td>\n",
       "      <td>360.000000</td>\n",
       "      <td>0.843267</td>\n",
       "      <td>0.666667</td>\n",
       "      <td>0.616766</td>\n",
       "      <td>0.649351</td>\n",
       "      <td>0.701031</td>\n",
       "      <td>0.684086</td>\n",
       "      <td>0.767568</td>\n",
       "    </tr>\n",
       "    <tr>\n",
       "      <th>...</th>\n",
       "      <td>...</td>\n",
       "      <td>...</td>\n",
       "      <td>...</td>\n",
       "      <td>...</td>\n",
       "      <td>...</td>\n",
       "      <td>...</td>\n",
       "      <td>...</td>\n",
       "      <td>...</td>\n",
       "      <td>...</td>\n",
       "      <td>...</td>\n",
       "      <td>...</td>\n",
       "    </tr>\n",
       "    <tr>\n",
       "      <th>486</th>\n",
       "      <td>2031</td>\n",
       "      <td>1632.0</td>\n",
       "      <td>113.0</td>\n",
       "      <td>480.000000</td>\n",
       "      <td>1.000000</td>\n",
       "      <td>0.666667</td>\n",
       "      <td>0.722222</td>\n",
       "      <td>0.759036</td>\n",
       "      <td>0.701031</td>\n",
       "      <td>0.684086</td>\n",
       "      <td>0.767568</td>\n",
       "    </tr>\n",
       "    <tr>\n",
       "      <th>487</th>\n",
       "      <td>3707</td>\n",
       "      <td>3166.0</td>\n",
       "      <td>182.0</td>\n",
       "      <td>343.290188</td>\n",
       "      <td>1.000000</td>\n",
       "      <td>0.690594</td>\n",
       "      <td>0.722222</td>\n",
       "      <td>0.680556</td>\n",
       "      <td>0.701031</td>\n",
       "      <td>0.684086</td>\n",
       "      <td>0.613333</td>\n",
       "    </tr>\n",
       "    <tr>\n",
       "      <th>488</th>\n",
       "      <td>16250</td>\n",
       "      <td>0.0</td>\n",
       "      <td>192.0</td>\n",
       "      <td>360.000000</td>\n",
       "      <td>0.000000</td>\n",
       "      <td>0.690594</td>\n",
       "      <td>0.616766</td>\n",
       "      <td>0.680556</td>\n",
       "      <td>0.701031</td>\n",
       "      <td>0.700000</td>\n",
       "      <td>0.660256</td>\n",
       "    </tr>\n",
       "    <tr>\n",
       "      <th>489</th>\n",
       "      <td>10408</td>\n",
       "      <td>0.0</td>\n",
       "      <td>259.0</td>\n",
       "      <td>360.000000</td>\n",
       "      <td>1.000000</td>\n",
       "      <td>0.666667</td>\n",
       "      <td>0.616766</td>\n",
       "      <td>0.680556</td>\n",
       "      <td>0.701031</td>\n",
       "      <td>0.684086</td>\n",
       "      <td>0.660256</td>\n",
       "    </tr>\n",
       "    <tr>\n",
       "      <th>490</th>\n",
       "      <td>4923</td>\n",
       "      <td>0.0</td>\n",
       "      <td>166.0</td>\n",
       "      <td>360.000000</td>\n",
       "      <td>0.000000</td>\n",
       "      <td>0.690594</td>\n",
       "      <td>0.616766</td>\n",
       "      <td>0.759036</td>\n",
       "      <td>0.701031</td>\n",
       "      <td>0.684086</td>\n",
       "      <td>0.767568</td>\n",
       "    </tr>\n",
       "  </tbody>\n",
       "</table>\n",
       "<p>491 rows × 11 columns</p>\n",
       "</div>"
      ],
      "text/plain": [
       "     ApplicantIncome  CoapplicantIncome  LoanAmount  Loan_Amount_Term  \\\n",
       "0               3417             1750.0       186.0        360.000000   \n",
       "1               3593             4266.0       132.0        180.000000   \n",
       "2               2479             3013.0       188.0        360.000000   \n",
       "3               1759             3541.0       131.0        360.000000   \n",
       "4               3541                0.0       112.0        360.000000   \n",
       "..               ...                ...         ...               ...   \n",
       "486             2031             1632.0       113.0        480.000000   \n",
       "487             3707             3166.0       182.0        343.290188   \n",
       "488            16250                0.0       192.0        360.000000   \n",
       "489            10408                0.0       259.0        360.000000   \n",
       "490             4923                0.0       166.0        360.000000   \n",
       "\n",
       "     Credit_History    Gender   Married  Dependents  Education  Self_Employed  \\\n",
       "0          1.000000  0.690594  0.722222    0.649351   0.701031       0.684086   \n",
       "1          0.000000  0.690594  0.722222    0.680556   0.701031       0.684086   \n",
       "2          1.000000  0.690594  0.722222    0.680556   0.701031       0.700000   \n",
       "3          1.000000  0.690594  0.722222    0.680556   0.701031       0.684086   \n",
       "4          0.843267  0.666667  0.616766    0.649351   0.701031       0.684086   \n",
       "..              ...       ...       ...         ...        ...            ...   \n",
       "486        1.000000  0.666667  0.722222    0.759036   0.701031       0.684086   \n",
       "487        1.000000  0.690594  0.722222    0.680556   0.701031       0.684086   \n",
       "488        0.000000  0.690594  0.616766    0.680556   0.701031       0.700000   \n",
       "489        1.000000  0.666667  0.616766    0.680556   0.701031       0.684086   \n",
       "490        0.000000  0.690594  0.616766    0.759036   0.701031       0.684086   \n",
       "\n",
       "     Property_Area  \n",
       "0         0.660256  \n",
       "1         0.613333  \n",
       "2         0.660256  \n",
       "3         0.767568  \n",
       "4         0.767568  \n",
       "..             ...  \n",
       "486       0.767568  \n",
       "487       0.613333  \n",
       "488       0.660256  \n",
       "489       0.660256  \n",
       "490       0.767568  \n",
       "\n",
       "[491 rows x 11 columns]"
      ]
     },
     "execution_count": 44,
     "metadata": {},
     "output_type": "execute_result"
    }
   ],
   "source": [
    "train_x1"
   ]
  },
  {
   "cell_type": "code",
   "execution_count": 45,
   "id": "10c05a51",
   "metadata": {},
   "outputs": [
    {
     "data": {
      "text/plain": [
       "ApplicantIncome      0\n",
       "CoapplicantIncome    0\n",
       "LoanAmount           0\n",
       "Loan_Amount_Term     0\n",
       "Credit_History       0\n",
       "Gender               0\n",
       "Married              0\n",
       "Dependents           0\n",
       "Education            0\n",
       "Self_Employed        0\n",
       "Property_Area        0\n",
       "dtype: int64"
      ]
     },
     "execution_count": 45,
     "metadata": {},
     "output_type": "execute_result"
    }
   ],
   "source": [
    "#check the null value\n",
    "train_x1.isnull().sum()"
   ]
  },
  {
   "cell_type": "code",
   "execution_count": 46,
   "id": "80409c71",
   "metadata": {},
   "outputs": [
    {
     "data": {
      "text/plain": [
       "ApplicantIncome      0\n",
       "CoapplicantIncome    0\n",
       "LoanAmount           0\n",
       "Loan_Amount_Term     0\n",
       "Credit_History       0\n",
       "Gender               0\n",
       "Married              0\n",
       "Dependents           0\n",
       "Education            0\n",
       "Self_Employed        0\n",
       "Property_Area        0\n",
       "dtype: int64"
      ]
     },
     "execution_count": 46,
     "metadata": {},
     "output_type": "execute_result"
    }
   ],
   "source": [
    "test_x1.isnull().sum()"
   ]
  },
  {
   "cell_type": "markdown",
   "id": "9c3d7eb4",
   "metadata": {},
   "source": [
    "# Scaling Using Robustscaler"
   ]
  },
  {
   "cell_type": "code",
   "execution_count": 47,
   "id": "e8fd88e8",
   "metadata": {},
   "outputs": [
    {
     "data": {
      "text/html": [
       "<style>#sk-container-id-2 {color: black;background-color: white;}#sk-container-id-2 pre{padding: 0;}#sk-container-id-2 div.sk-toggleable {background-color: white;}#sk-container-id-2 label.sk-toggleable__label {cursor: pointer;display: block;width: 100%;margin-bottom: 0;padding: 0.3em;box-sizing: border-box;text-align: center;}#sk-container-id-2 label.sk-toggleable__label-arrow:before {content: \"▸\";float: left;margin-right: 0.25em;color: #696969;}#sk-container-id-2 label.sk-toggleable__label-arrow:hover:before {color: black;}#sk-container-id-2 div.sk-estimator:hover label.sk-toggleable__label-arrow:before {color: black;}#sk-container-id-2 div.sk-toggleable__content {max-height: 0;max-width: 0;overflow: hidden;text-align: left;background-color: #f0f8ff;}#sk-container-id-2 div.sk-toggleable__content pre {margin: 0.2em;color: black;border-radius: 0.25em;background-color: #f0f8ff;}#sk-container-id-2 input.sk-toggleable__control:checked~div.sk-toggleable__content {max-height: 200px;max-width: 100%;overflow: auto;}#sk-container-id-2 input.sk-toggleable__control:checked~label.sk-toggleable__label-arrow:before {content: \"▾\";}#sk-container-id-2 div.sk-estimator input.sk-toggleable__control:checked~label.sk-toggleable__label {background-color: #d4ebff;}#sk-container-id-2 div.sk-label input.sk-toggleable__control:checked~label.sk-toggleable__label {background-color: #d4ebff;}#sk-container-id-2 input.sk-hidden--visually {border: 0;clip: rect(1px 1px 1px 1px);clip: rect(1px, 1px, 1px, 1px);height: 1px;margin: -1px;overflow: hidden;padding: 0;position: absolute;width: 1px;}#sk-container-id-2 div.sk-estimator {font-family: monospace;background-color: #f0f8ff;border: 1px dotted black;border-radius: 0.25em;box-sizing: border-box;margin-bottom: 0.5em;}#sk-container-id-2 div.sk-estimator:hover {background-color: #d4ebff;}#sk-container-id-2 div.sk-parallel-item::after {content: \"\";width: 100%;border-bottom: 1px solid gray;flex-grow: 1;}#sk-container-id-2 div.sk-label:hover label.sk-toggleable__label {background-color: #d4ebff;}#sk-container-id-2 div.sk-serial::before {content: \"\";position: absolute;border-left: 1px solid gray;box-sizing: border-box;top: 0;bottom: 0;left: 50%;z-index: 0;}#sk-container-id-2 div.sk-serial {display: flex;flex-direction: column;align-items: center;background-color: white;padding-right: 0.2em;padding-left: 0.2em;position: relative;}#sk-container-id-2 div.sk-item {position: relative;z-index: 1;}#sk-container-id-2 div.sk-parallel {display: flex;align-items: stretch;justify-content: center;background-color: white;position: relative;}#sk-container-id-2 div.sk-item::before, #sk-container-id-2 div.sk-parallel-item::before {content: \"\";position: absolute;border-left: 1px solid gray;box-sizing: border-box;top: 0;bottom: 0;left: 50%;z-index: -1;}#sk-container-id-2 div.sk-parallel-item {display: flex;flex-direction: column;z-index: 1;position: relative;background-color: white;}#sk-container-id-2 div.sk-parallel-item:first-child::after {align-self: flex-end;width: 50%;}#sk-container-id-2 div.sk-parallel-item:last-child::after {align-self: flex-start;width: 50%;}#sk-container-id-2 div.sk-parallel-item:only-child::after {width: 0;}#sk-container-id-2 div.sk-dashed-wrapped {border: 1px dashed gray;margin: 0 0.4em 0.5em 0.4em;box-sizing: border-box;padding-bottom: 0.4em;background-color: white;}#sk-container-id-2 div.sk-label label {font-family: monospace;font-weight: bold;display: inline-block;line-height: 1.2em;}#sk-container-id-2 div.sk-label-container {text-align: center;}#sk-container-id-2 div.sk-container {/* jupyter's `normalize.less` sets `[hidden] { display: none; }` but bootstrap.min.css set `[hidden] { display: none !important; }` so we also need the `!important` here to be able to override the default hidden behavior on the sphinx rendered scikit-learn.org. See: https://github.com/scikit-learn/scikit-learn/issues/21755 */display: inline-block !important;position: relative;}#sk-container-id-2 div.sk-text-repr-fallback {display: none;}</style><div id=\"sk-container-id-2\" class=\"sk-top-container\"><div class=\"sk-text-repr-fallback\"><pre>RobustScaler()</pre><b>In a Jupyter environment, please rerun this cell to show the HTML representation or trust the notebook. <br />On GitHub, the HTML representation is unable to render, please try loading this page with nbviewer.org.</b></div><div class=\"sk-container\" hidden><div class=\"sk-item\"><div class=\"sk-estimator sk-toggleable\"><input class=\"sk-toggleable__control sk-hidden--visually\" id=\"sk-estimator-id-2\" type=\"checkbox\" checked><label for=\"sk-estimator-id-2\" class=\"sk-toggleable__label sk-toggleable__label-arrow\">RobustScaler</label><div class=\"sk-toggleable__content\"><pre>RobustScaler()</pre></div></div></div></div></div>"
      ],
      "text/plain": [
       "RobustScaler()"
      ]
     },
     "execution_count": 47,
     "metadata": {},
     "output_type": "execute_result"
    }
   ],
   "source": [
    "from sklearn.preprocessing import MinMaxScaler, StandardScaler, RobustScaler\n",
    "scaler = RobustScaler()\n",
    "scaler.fit(train_x1)"
   ]
  },
  {
   "cell_type": "code",
   "execution_count": 48,
   "id": "df7f62bf",
   "metadata": {},
   "outputs": [],
   "source": [
    "train_x1 = pd.DataFrame(scaler.transform(train_x1), columns=train_x1.columns)\n",
    "test_x1 = pd.DataFrame(scaler.transform(test_x1), columns=test_x1.columns)"
   ]
  },
  {
   "cell_type": "code",
   "execution_count": 49,
   "id": "c0c6ae64",
   "metadata": {},
   "outputs": [
    {
     "data": {
      "text/html": [
       "<div>\n",
       "<style scoped>\n",
       "    .dataframe tbody tr th:only-of-type {\n",
       "        vertical-align: middle;\n",
       "    }\n",
       "\n",
       "    .dataframe tbody tr th {\n",
       "        vertical-align: top;\n",
       "    }\n",
       "\n",
       "    .dataframe thead th {\n",
       "        text-align: right;\n",
       "    }\n",
       "</style>\n",
       "<table border=\"1\" class=\"dataframe\">\n",
       "  <thead>\n",
       "    <tr style=\"text-align: right;\">\n",
       "      <th></th>\n",
       "      <th>ApplicantIncome</th>\n",
       "      <th>CoapplicantIncome</th>\n",
       "      <th>LoanAmount</th>\n",
       "      <th>Loan_Amount_Term</th>\n",
       "      <th>Credit_History</th>\n",
       "      <th>Gender</th>\n",
       "      <th>Married</th>\n",
       "      <th>Dependents</th>\n",
       "      <th>Education</th>\n",
       "      <th>Self_Employed</th>\n",
       "      <th>Property_Area</th>\n",
       "    </tr>\n",
       "  </thead>\n",
       "  <tbody>\n",
       "    <tr>\n",
       "      <th>0</th>\n",
       "      <td>-0.148812</td>\n",
       "      <td>0.210728</td>\n",
       "      <td>0.785714</td>\n",
       "      <td>0.000000</td>\n",
       "      <td>0.000000</td>\n",
       "      <td>0.000000</td>\n",
       "      <td>0.0</td>\n",
       "      <td>-0.031205</td>\n",
       "      <td>0.0</td>\n",
       "      <td>0.000000</td>\n",
       "      <td>0.000000</td>\n",
       "    </tr>\n",
       "    <tr>\n",
       "      <th>1</th>\n",
       "      <td>-0.090350</td>\n",
       "      <td>1.281822</td>\n",
       "      <td>0.014286</td>\n",
       "      <td>-180.000000</td>\n",
       "      <td>-1.000000</td>\n",
       "      <td>0.000000</td>\n",
       "      <td>0.0</td>\n",
       "      <td>0.000000</td>\n",
       "      <td>0.0</td>\n",
       "      <td>0.000000</td>\n",
       "      <td>-0.304233</td>\n",
       "    </tr>\n",
       "    <tr>\n",
       "      <th>2</th>\n",
       "      <td>-0.460389</td>\n",
       "      <td>0.748404</td>\n",
       "      <td>0.814286</td>\n",
       "      <td>0.000000</td>\n",
       "      <td>0.000000</td>\n",
       "      <td>0.000000</td>\n",
       "      <td>0.0</td>\n",
       "      <td>0.000000</td>\n",
       "      <td>0.0</td>\n",
       "      <td>0.015914</td>\n",
       "      <td>0.000000</td>\n",
       "    </tr>\n",
       "    <tr>\n",
       "      <th>3</th>\n",
       "      <td>-0.699552</td>\n",
       "      <td>0.973180</td>\n",
       "      <td>0.000000</td>\n",
       "      <td>0.000000</td>\n",
       "      <td>0.000000</td>\n",
       "      <td>0.000000</td>\n",
       "      <td>0.0</td>\n",
       "      <td>0.000000</td>\n",
       "      <td>0.0</td>\n",
       "      <td>0.000000</td>\n",
       "      <td>0.695767</td>\n",
       "    </tr>\n",
       "    <tr>\n",
       "      <th>4</th>\n",
       "      <td>-0.107623</td>\n",
       "      <td>-0.534270</td>\n",
       "      <td>-0.271429</td>\n",
       "      <td>0.000000</td>\n",
       "      <td>-0.156733</td>\n",
       "      <td>-0.023927</td>\n",
       "      <td>-1.0</td>\n",
       "      <td>-0.031205</td>\n",
       "      <td>0.0</td>\n",
       "      <td>0.000000</td>\n",
       "      <td>0.695767</td>\n",
       "    </tr>\n",
       "    <tr>\n",
       "      <th>...</th>\n",
       "      <td>...</td>\n",
       "      <td>...</td>\n",
       "      <td>...</td>\n",
       "      <td>...</td>\n",
       "      <td>...</td>\n",
       "      <td>...</td>\n",
       "      <td>...</td>\n",
       "      <td>...</td>\n",
       "      <td>...</td>\n",
       "      <td>...</td>\n",
       "      <td>...</td>\n",
       "    </tr>\n",
       "    <tr>\n",
       "      <th>486</th>\n",
       "      <td>-0.609201</td>\n",
       "      <td>0.160494</td>\n",
       "      <td>-0.257143</td>\n",
       "      <td>120.000000</td>\n",
       "      <td>0.000000</td>\n",
       "      <td>-0.023927</td>\n",
       "      <td>0.0</td>\n",
       "      <td>0.078481</td>\n",
       "      <td>0.0</td>\n",
       "      <td>0.000000</td>\n",
       "      <td>0.695767</td>\n",
       "    </tr>\n",
       "    <tr>\n",
       "      <th>487</th>\n",
       "      <td>-0.052483</td>\n",
       "      <td>0.813538</td>\n",
       "      <td>0.728571</td>\n",
       "      <td>-16.709812</td>\n",
       "      <td>0.000000</td>\n",
       "      <td>0.000000</td>\n",
       "      <td>0.0</td>\n",
       "      <td>0.000000</td>\n",
       "      <td>0.0</td>\n",
       "      <td>0.000000</td>\n",
       "      <td>-0.304233</td>\n",
       "    </tr>\n",
       "    <tr>\n",
       "      <th>488</th>\n",
       "      <td>4.113935</td>\n",
       "      <td>-0.534270</td>\n",
       "      <td>0.871429</td>\n",
       "      <td>0.000000</td>\n",
       "      <td>-1.000000</td>\n",
       "      <td>0.000000</td>\n",
       "      <td>-1.0</td>\n",
       "      <td>0.000000</td>\n",
       "      <td>0.0</td>\n",
       "      <td>0.015914</td>\n",
       "      <td>0.000000</td>\n",
       "    </tr>\n",
       "    <tr>\n",
       "      <th>489</th>\n",
       "      <td>2.173393</td>\n",
       "      <td>-0.534270</td>\n",
       "      <td>1.828571</td>\n",
       "      <td>0.000000</td>\n",
       "      <td>0.000000</td>\n",
       "      <td>-0.023927</td>\n",
       "      <td>-1.0</td>\n",
       "      <td>0.000000</td>\n",
       "      <td>0.0</td>\n",
       "      <td>0.000000</td>\n",
       "      <td>0.000000</td>\n",
       "    </tr>\n",
       "    <tr>\n",
       "      <th>490</th>\n",
       "      <td>0.351437</td>\n",
       "      <td>-0.534270</td>\n",
       "      <td>0.500000</td>\n",
       "      <td>0.000000</td>\n",
       "      <td>-1.000000</td>\n",
       "      <td>0.000000</td>\n",
       "      <td>-1.0</td>\n",
       "      <td>0.078481</td>\n",
       "      <td>0.0</td>\n",
       "      <td>0.000000</td>\n",
       "      <td>0.695767</td>\n",
       "    </tr>\n",
       "  </tbody>\n",
       "</table>\n",
       "<p>491 rows × 11 columns</p>\n",
       "</div>"
      ],
      "text/plain": [
       "     ApplicantIncome  CoapplicantIncome  LoanAmount  Loan_Amount_Term  \\\n",
       "0          -0.148812           0.210728    0.785714          0.000000   \n",
       "1          -0.090350           1.281822    0.014286       -180.000000   \n",
       "2          -0.460389           0.748404    0.814286          0.000000   \n",
       "3          -0.699552           0.973180    0.000000          0.000000   \n",
       "4          -0.107623          -0.534270   -0.271429          0.000000   \n",
       "..               ...                ...         ...               ...   \n",
       "486        -0.609201           0.160494   -0.257143        120.000000   \n",
       "487        -0.052483           0.813538    0.728571        -16.709812   \n",
       "488         4.113935          -0.534270    0.871429          0.000000   \n",
       "489         2.173393          -0.534270    1.828571          0.000000   \n",
       "490         0.351437          -0.534270    0.500000          0.000000   \n",
       "\n",
       "     Credit_History    Gender  Married  Dependents  Education  Self_Employed  \\\n",
       "0          0.000000  0.000000      0.0   -0.031205        0.0       0.000000   \n",
       "1         -1.000000  0.000000      0.0    0.000000        0.0       0.000000   \n",
       "2          0.000000  0.000000      0.0    0.000000        0.0       0.015914   \n",
       "3          0.000000  0.000000      0.0    0.000000        0.0       0.000000   \n",
       "4         -0.156733 -0.023927     -1.0   -0.031205        0.0       0.000000   \n",
       "..              ...       ...      ...         ...        ...            ...   \n",
       "486        0.000000 -0.023927      0.0    0.078481        0.0       0.000000   \n",
       "487        0.000000  0.000000      0.0    0.000000        0.0       0.000000   \n",
       "488       -1.000000  0.000000     -1.0    0.000000        0.0       0.015914   \n",
       "489        0.000000 -0.023927     -1.0    0.000000        0.0       0.000000   \n",
       "490       -1.000000  0.000000     -1.0    0.078481        0.0       0.000000   \n",
       "\n",
       "     Property_Area  \n",
       "0         0.000000  \n",
       "1        -0.304233  \n",
       "2         0.000000  \n",
       "3         0.695767  \n",
       "4         0.695767  \n",
       "..             ...  \n",
       "486       0.695767  \n",
       "487      -0.304233  \n",
       "488       0.000000  \n",
       "489       0.000000  \n",
       "490       0.695767  \n",
       "\n",
       "[491 rows x 11 columns]"
      ]
     },
     "execution_count": 49,
     "metadata": {},
     "output_type": "execute_result"
    }
   ],
   "source": [
    "train_x1"
   ]
  },
  {
   "cell_type": "markdown",
   "id": "c609ae26",
   "metadata": {},
   "source": [
    "# Model Building And Evaluation"
   ]
  },
  {
   "cell_type": "code",
   "execution_count": 50,
   "id": "98c729c6",
   "metadata": {},
   "outputs": [],
   "source": [
    "from sklearn.linear_model import LogisticRegression\n",
    "from sklearn.neighbors import KNeighborsClassifier\n",
    "from sklearn.tree import DecisionTreeClassifier\n",
    "from sklearn.ensemble import RandomForestClassifier\n",
    "from sklearn.naive_bayes import GaussianNB\n",
    "from sklearn.svm import SVC\n",
    "import xgboost as Xgb"
   ]
  },
  {
   "cell_type": "code",
   "execution_count": 51,
   "id": "03d1c6ae",
   "metadata": {},
   "outputs": [],
   "source": [
    "from sklearn.metrics import classification_report, accuracy_score, precision_score, recall_score, f1_score, confusion_matrix"
   ]
  },
  {
   "cell_type": "code",
   "execution_count": 52,
   "id": "ffbe2848",
   "metadata": {},
   "outputs": [
    {
     "name": "stdout",
     "output_type": "stream",
     "text": [
      "              precision    recall  f1-score   support\n",
      "\n",
      "           0       0.89      0.45      0.60        38\n",
      "           1       0.80      0.98      0.88        85\n",
      "\n",
      "    accuracy                           0.81       123\n",
      "   macro avg       0.85      0.71      0.74       123\n",
      "weighted avg       0.83      0.81      0.79       123\n",
      "\n"
     ]
    }
   ],
   "source": [
    "#lOGISTIC REGRESSION\n",
    "log_model = LogisticRegression(random_state=50)\n",
    "log_model.fit(train_x1, train_y)\n",
    "pred_log = log_model.predict(test_x1)\n",
    "print(classification_report(test_y, pred_log))"
   ]
  },
  {
   "cell_type": "code",
   "execution_count": 53,
   "id": "53f8c092",
   "metadata": {},
   "outputs": [
    {
     "data": {
      "text/plain": [
       "0.8105906313645621"
      ]
     },
     "execution_count": 53,
     "metadata": {},
     "output_type": "execute_result"
    }
   ],
   "source": [
    "log_model.score(train_x1, train_y)"
   ]
  },
  {
   "cell_type": "code",
   "execution_count": 54,
   "id": "9d73376d",
   "metadata": {},
   "outputs": [
    {
     "data": {
      "text/plain": [
       "0.8130081300813008"
      ]
     },
     "execution_count": 54,
     "metadata": {},
     "output_type": "execute_result"
    }
   ],
   "source": [
    "log_model.score(test_x1, test_y)"
   ]
  },
  {
   "cell_type": "code",
   "execution_count": 55,
   "id": "04e36cbf",
   "metadata": {},
   "outputs": [
    {
     "name": "stdout",
     "output_type": "stream",
     "text": [
      "              precision    recall  f1-score   support\n",
      "\n",
      "           0       0.67      0.42      0.52        38\n",
      "           1       0.78      0.91      0.84        85\n",
      "\n",
      "    accuracy                           0.76       123\n",
      "   macro avg       0.72      0.66      0.68       123\n",
      "weighted avg       0.74      0.76      0.74       123\n",
      "\n"
     ]
    }
   ],
   "source": [
    "#KNEARASTNEIGHBORS CLASSIFIER\n",
    "knn_model = KNeighborsClassifier(n_neighbors=10)\n",
    "knn_model.fit(train_x1, train_y)\n",
    "pred_knn = knn_model.predict(test_x1)\n",
    "print(classification_report(test_y, pred_knn))"
   ]
  },
  {
   "cell_type": "code",
   "execution_count": 56,
   "id": "05116402",
   "metadata": {},
   "outputs": [
    {
     "name": "stdout",
     "output_type": "stream",
     "text": [
      "              precision    recall  f1-score   support\n",
      "\n",
      "           0       0.81      0.45      0.58        38\n",
      "           1       0.79      0.95      0.87        85\n",
      "\n",
      "    accuracy                           0.80       123\n",
      "   macro avg       0.80      0.70      0.72       123\n",
      "weighted avg       0.80      0.80      0.78       123\n",
      "\n"
     ]
    }
   ],
   "source": [
    "# NAIVE BAYES CLASSIFICATION\n",
    "nbc_model = GaussianNB()\n",
    "nbc_model.fit(train_x1, train_y)\n",
    "pred_nbc = nbc_model.predict(test_x1)\n",
    "print(classification_report(test_y, pred_nbc))"
   ]
  },
  {
   "cell_type": "code",
   "execution_count": 57,
   "id": "198b1da1",
   "metadata": {},
   "outputs": [
    {
     "name": "stdout",
     "output_type": "stream",
     "text": [
      "              precision    recall  f1-score   support\n",
      "\n",
      "           0       0.50      0.03      0.05        38\n",
      "           1       0.69      0.99      0.82        85\n",
      "\n",
      "    accuracy                           0.69       123\n",
      "   macro avg       0.60      0.51      0.43       123\n",
      "weighted avg       0.63      0.69      0.58       123\n",
      "\n"
     ]
    }
   ],
   "source": [
    "# SUPPORT VECTOR CLASSIFICATION\n",
    "svm_model = SVC(kernel=\"rbf\")\n",
    "svm_model.fit(train_x1, train_y)\n",
    "pred_svm = svm_model.predict(test_x1)\n",
    "print(classification_report(test_y, pred_svm))"
   ]
  },
  {
   "cell_type": "code",
   "execution_count": 58,
   "id": "005b9a57",
   "metadata": {},
   "outputs": [
    {
     "name": "stdout",
     "output_type": "stream",
     "text": [
      "              precision    recall  f1-score   support\n",
      "\n",
      "           0       0.64      0.55      0.59        38\n",
      "           1       0.81      0.86      0.83        85\n",
      "\n",
      "    accuracy                           0.76       123\n",
      "   macro avg       0.72      0.71      0.71       123\n",
      "weighted avg       0.76      0.76      0.76       123\n",
      "\n"
     ]
    }
   ],
   "source": [
    "#DECISION TREE CLASSIFICATION \n",
    "dt_model = DecisionTreeClassifier(random_state=50, criterion=\"gini\")\n",
    "dt_model.fit(train_x1, train_y)\n",
    "pred_dt = dt_model.predict(test_x1)\n",
    "print(classification_report(test_y, pred_dt))"
   ]
  },
  {
   "cell_type": "code",
   "execution_count": 59,
   "id": "b49993bf",
   "metadata": {},
   "outputs": [
    {
     "name": "stdout",
     "output_type": "stream",
     "text": [
      "              precision    recall  f1-score   support\n",
      "\n",
      "           0       0.67      0.47      0.55        38\n",
      "           1       0.79      0.89      0.84        85\n",
      "\n",
      "    accuracy                           0.76       123\n",
      "   macro avg       0.73      0.68      0.70       123\n",
      "weighted avg       0.75      0.76      0.75       123\n",
      "\n"
     ]
    }
   ],
   "source": [
    "#RANDOM FOREST CLASSIFICATION\n",
    "rfc_model = RandomForestClassifier(random_state=50)\n",
    "rfc_model.fit(train_x1, train_y)\n",
    "pred_rfc = rfc_model.predict(test_x1)\n",
    "print(classification_report(test_y, pred_rfc))"
   ]
  },
  {
   "cell_type": "code",
   "execution_count": 60,
   "id": "8d32f78f",
   "metadata": {},
   "outputs": [
    {
     "name": "stdout",
     "output_type": "stream",
     "text": [
      "              precision    recall  f1-score   support\n",
      "\n",
      "           0       0.69      0.53      0.60        38\n",
      "           1       0.81      0.89      0.85        85\n",
      "\n",
      "    accuracy                           0.78       123\n",
      "   macro avg       0.75      0.71      0.72       123\n",
      "weighted avg       0.77      0.78      0.77       123\n",
      "\n"
     ]
    }
   ],
   "source": [
    "#XGBOOST CLASSIFICATION\n",
    "xgb_model = Xgb.XGBClassifier(n_estimators=100)\n",
    "xgb_model.fit(train_x1, train_y)\n",
    "pred_xgb = xgb_model.predict(test_x1)\n",
    "print(classification_report(test_y, pred_xgb))"
   ]
  },
  {
   "cell_type": "code",
   "execution_count": 61,
   "id": "0d58a92a",
   "metadata": {},
   "outputs": [
    {
     "name": "stdout",
     "output_type": "stream",
     "text": [
      "              precision    recall  f1-score   support\n",
      "\n",
      "           0       0.65      0.45      0.53        38\n",
      "           1       0.78      0.89      0.84        85\n",
      "\n",
      "    accuracy                           0.76       123\n",
      "   macro avg       0.72      0.67      0.68       123\n",
      "weighted avg       0.74      0.76      0.74       123\n",
      "\n"
     ]
    }
   ],
   "source": [
    "#ADABOOST CLASSIFICATION\n",
    "from sklearn.ensemble import AdaBoostClassifier\n",
    "adb_model = AdaBoostClassifier(random_state=50)\n",
    "adb_model.fit(train_x1, train_y)\n",
    "pred_adb = adb_model.predict(test_x1)\n",
    "print(classification_report(test_y, pred_adb))"
   ]
  },
  {
   "cell_type": "code",
   "execution_count": 62,
   "id": "f02d6f01",
   "metadata": {},
   "outputs": [
    {
     "name": "stdout",
     "output_type": "stream",
     "text": [
      "{'C': 1, 'solver': 'newton-cholesky', 'tol': 0.8}\n",
      "0.7906683270890702\n"
     ]
    }
   ],
   "source": [
    "#HYPERPERAMETER TUNING OF LOGISTIC REGRESSOR\n",
    "from sklearn.model_selection import GridSearchCV\n",
    "log = LogisticRegression()\n",
    "params = { \"tol\" : [0.1,0.5,0.8,0.9], \"C\" :[1,2,8,6,9],\n",
    "          \"solver\": ['lbfgs', \"liblinear\", \"newton-cg\", \"newton-cholesky\", \"sag\", \"saga\"]}\n",
    "clf1 = GridSearchCV(log, params, cv=5, scoring=\"precision\")\n",
    "clf1.fit(train_x1, train_y)\n",
    "print(clf1.best_params_)\n",
    "print(clf1.best_score_)"
   ]
  },
  {
   "cell_type": "code",
   "execution_count": 63,
   "id": "9413fe7e",
   "metadata": {},
   "outputs": [
    {
     "data": {
      "text/plain": [
       "0.7904761904761904"
      ]
     },
     "execution_count": 63,
     "metadata": {},
     "output_type": "execute_result"
    }
   ],
   "source": [
    "log_model1 = LogisticRegression(C=1, solver=\"newton-cholesky\", tol=0.8)\n",
    "log_model1.fit(train_x1, train_y)\n",
    "pred_log1 = log_model1.predict(test_x1)\n",
    "preci_log= precision_score(test_y, pred_log1)\n",
    "preci_log"
   ]
  },
  {
   "cell_type": "code",
   "execution_count": 64,
   "id": "59d49022",
   "metadata": {},
   "outputs": [
    {
     "name": "stdout",
     "output_type": "stream",
     "text": [
      "{'algorithm': 'auto', 'n_neighbors': 1, 'weights': 'uniform'}\n",
      "0.7733395017668594\n"
     ]
    }
   ],
   "source": [
    "#HYPERPERAMETER TUING OF KNN\n",
    "knn =KNeighborsClassifier()\n",
    "params_knn= {'algorithm' :['auto', 'ball_tree', 'kd_tree', 'brute'], 'weights': ['uniform', 'distance'], \n",
    "         \"n_neighbors\" : [1,25,14,13,26,85,45]}\n",
    "clf2 = GridSearchCV(knn, params_knn, cv=5, scoring=\"precision\")\n",
    "clf2.fit(train_x1, train_y)\n",
    "print(clf2.best_params_)\n",
    "print(clf2.best_score_)"
   ]
  },
  {
   "cell_type": "code",
   "execution_count": 65,
   "id": "7dd08788",
   "metadata": {},
   "outputs": [
    {
     "data": {
      "text/plain": [
       "0.8105263157894737"
      ]
     },
     "execution_count": 65,
     "metadata": {},
     "output_type": "execute_result"
    }
   ],
   "source": [
    "knn_model1 = KNeighborsClassifier(algorithm=\"auto\", weights=\"uniform\")\n",
    "knn_model1.fit(train_x1, train_y)\n",
    "pred_knn1 = knn_model1.predict(test_x1)\n",
    "preci_knn= precision_score(test_y, pred_knn1)\n",
    "preci_knn"
   ]
  },
  {
   "cell_type": "code",
   "execution_count": 66,
   "id": "a191df7f",
   "metadata": {},
   "outputs": [
    {
     "name": "stdout",
     "output_type": "stream",
     "text": [
      "{'var_smoothing': 0.96}\n",
      "0.6850699292525508\n"
     ]
    }
   ],
   "source": [
    "#HYPERPERAMETER TUNING OF NB\n",
    "nb = GaussianNB()\n",
    "params_nb = {'var_smoothing' : [0.96,0.25,0.30,0.40, 0.50]}\n",
    "clf3 = GridSearchCV(nb, params_nb, cv=5, scoring=\"precision\")\n",
    "clf3.fit(train_x1, train_y)\n",
    "print(clf3.best_params_)\n",
    "print(clf3.best_score_)"
   ]
  },
  {
   "cell_type": "code",
   "execution_count": 67,
   "id": "ce7fb8de",
   "metadata": {},
   "outputs": [
    {
     "name": "stdout",
     "output_type": "stream",
     "text": [
      "{'gamma': 'auto'}\n",
      "0.7718397347986292\n"
     ]
    }
   ],
   "source": [
    "#HYPERPERAMETER TUNING OF SUPPORT VECTOR \n",
    "svm = SVC()\n",
    "params_svm = {\"gamma\" :[\"scale\", \"auto\"]}\n",
    "clf4 = GridSearchCV(svm, params_svm, cv=5, scoring=\"precision\")\n",
    "clf4.fit(train_x1, train_y)\n",
    "print(clf4.best_params_)\n",
    "print(clf4.best_score_)"
   ]
  },
  {
   "cell_type": "code",
   "execution_count": 68,
   "id": "1316b2ba",
   "metadata": {},
   "outputs": [
    {
     "name": "stdout",
     "output_type": "stream",
     "text": [
      "{'criterion': 'gini', 'max_depth': 1, 'splitter': 'best'}\n",
      "0.810513296227582\n"
     ]
    }
   ],
   "source": [
    "#HYPERPERAMETER TUNING OF DECISION TREE \n",
    "dt = DecisionTreeClassifier()\n",
    "params_dt = {'criterion':['gini', 'entropy', 'log_loss'], 'max_depth' :[1,25,14,13,45,75,26],'splitter':['best', 'random']}\n",
    "clf5 = GridSearchCV(dt, params_dt, cv=5, scoring=\"accuracy\")\n",
    "clf5.fit(train_x1, train_y)\n",
    "print(clf5.best_params_)\n",
    "print(clf5.best_score_)"
   ]
  },
  {
   "cell_type": "code",
   "execution_count": 69,
   "id": "79dcce75",
   "metadata": {},
   "outputs": [
    {
     "data": {
      "text/plain": [
       "0.7904761904761904"
      ]
     },
     "execution_count": 69,
     "metadata": {},
     "output_type": "execute_result"
    }
   ],
   "source": [
    "dt_model1 = DecisionTreeClassifier(criterion=\"gini\",max_depth=1, splitter=\"best\")\n",
    "dt_model1.fit(train_x1, train_y)\n",
    "pred_dt1 = dt_model1.predict(test_x1)\n",
    "preci_dt= precision_score(test_y, pred_dt1)\n",
    "preci_dt"
   ]
  },
  {
   "cell_type": "code",
   "execution_count": 70,
   "id": "b5388e0e",
   "metadata": {},
   "outputs": [
    {
     "name": "stdout",
     "output_type": "stream",
     "text": [
      "{'max_depth': 48, 'n_estimators': 10}\n",
      "0.8074446223186336\n"
     ]
    }
   ],
   "source": [
    "#HYPERPERAMETER TUNING OF RANDOMFOREST \n",
    "rfc = RandomForestClassifier()\n",
    "params_rfc = {\"n_estimators\" : [10,15,125,10,8,85],\"max_depth\" : [10,25,48,85,42,3]}\n",
    "clf6 = GridSearchCV(rfc, params_rfc, cv=5, scoring=\"precision\")\n",
    "clf6.fit(train_x1, train_y)\n",
    "print(clf6.best_params_)\n",
    "print(clf6.best_score_)"
   ]
  },
  {
   "cell_type": "code",
   "execution_count": 115,
   "id": "897f1f35",
   "metadata": {},
   "outputs": [
    {
     "data": {
      "text/plain": [
       "0.8222222222222222"
      ]
     },
     "execution_count": 115,
     "metadata": {},
     "output_type": "execute_result"
    }
   ],
   "source": [
    "rfc_model1 = RandomForestClassifier(max_depth=42, n_estimators = 10)\n",
    "rfc_model1.fit(train_x1, train_y)\n",
    "pred_rfc1 = rfc_model1.predict(test_x1)\n",
    "precision= precision_score(test_y, pred_rfc1)\n",
    "precision"
   ]
  },
  {
   "cell_type": "code",
   "execution_count": 72,
   "id": "9a12db0f",
   "metadata": {},
   "outputs": [
    {
     "name": "stdout",
     "output_type": "stream",
     "text": [
      "{'eta': 0.4, 'max_depth': 14, 'n_estimators': 50}\n",
      "0.7990901323955809\n"
     ]
    }
   ],
   "source": [
    "#HYPERPERAMETER TUNING OF XGBOOST\n",
    "xgb = Xgb.XGBClassifier()\n",
    "params_xgb = {'eta': [0.1, 0.2, 0.3,0.4,0.5], 'n_estimators' : [10, 50, 100,12,15], 'max_depth': [3, 6, 9,14]}\n",
    "clf7 = GridSearchCV(xgb, params_xgb, cv=5, scoring=\"precision\")\n",
    "clf7.fit(train_x1, train_y)\n",
    "print(clf7.best_params_)\n",
    "print(clf7.best_score_)"
   ]
  },
  {
   "cell_type": "code",
   "execution_count": 73,
   "id": "dd302861",
   "metadata": {},
   "outputs": [
    {
     "data": {
      "text/plain": [
       "0.8172043010752689"
      ]
     },
     "execution_count": 73,
     "metadata": {},
     "output_type": "execute_result"
    }
   ],
   "source": [
    "xgb_model1 = Xgb.XGBClassifier(eta= 0.4,max_depth=14, n_estimators = 50)\n",
    "xgb_model1.fit(train_x1, train_y)\n",
    "pred_xgb1 = xgb_model1.predict(test_x1)\n",
    "preci_xgb= precision_score(test_y, pred_xgb1)\n",
    "preci_xgb"
   ]
  },
  {
   "cell_type": "code",
   "execution_count": 74,
   "id": "30acacac",
   "metadata": {},
   "outputs": [
    {
     "name": "stdout",
     "output_type": "stream",
     "text": [
      "{'n_estimators': 50}\n",
      "0.797107388724977\n"
     ]
    }
   ],
   "source": [
    "#HYPERPERAMETER TUNING OF ADABOOST\n",
    "adb = AdaBoostClassifier()\n",
    "params_adb = {'n_estimators' : [10, 50, 100,12,15]}\n",
    "clf8 = GridSearchCV(xgb, params_adb, cv=5, scoring=\"precision\")\n",
    "clf8.fit(train_x1, train_y)\n",
    "print(clf8.best_params_)\n",
    "print(clf8.best_score_)"
   ]
  },
  {
   "cell_type": "code",
   "execution_count": 75,
   "id": "bb6b97ce",
   "metadata": {},
   "outputs": [
    {
     "data": {
      "text/plain": [
       "0.7835051546391752"
      ]
     },
     "execution_count": 75,
     "metadata": {},
     "output_type": "execute_result"
    }
   ],
   "source": [
    "adb_model1 = AdaBoostClassifier(n_estimators = 50)\n",
    "adb_model1.fit(train_x1, train_y)\n",
    "pred_adb1 = adb_model1.predict(test_x1)\n",
    "preci_adb= precision_score(test_y, pred_adb1)\n",
    "preci_adb"
   ]
  },
  {
   "cell_type": "code",
   "execution_count": 76,
   "id": "e509b2f0",
   "metadata": {},
   "outputs": [
    {
     "name": "stdout",
     "output_type": "stream",
     "text": [
      "LogisticRegression score is : {'C': 1, 'solver': 'newton-cholesky', 'tol': 0.8}\n",
      "KNeighborsClassifier score is : {'algorithm': 'auto', 'n_neighbors': 1, 'weights': 'uniform'}\n",
      "GaussianNB score is : {'var_smoothing': 0.96}\n",
      "Support vector machine score is : {'gamma': 'auto'}\n",
      "DecisionTreeClassifier score is : {'criterion': 'gini', 'max_depth': 1, 'splitter': 'best'}\n",
      "RandomForestClassifier score is : {'max_depth': 48, 'n_estimators': 10}\n",
      "XGBOOST score is : {'eta': 0.4, 'max_depth': 14, 'n_estimators': 50}\n",
      "AdaBoostClassifier score is : {'n_estimators': 50}\n"
     ]
    }
   ],
   "source": [
    "#best perameter for model\n",
    "print(\"LogisticRegression score is :\", clf1.best_params_)\n",
    "print(\"KNeighborsClassifier score is :\", clf2.best_params_)\n",
    "print(\"GaussianNB score is :\", clf3.best_params_)\n",
    "print(\"Support vector machine score is :\", clf4.best_params_)\n",
    "print(\"DecisionTreeClassifier score is :\", clf5.best_params_)\n",
    "print(\"RandomForestClassifier score is :\", clf6.best_params_)\n",
    "print(\"XGBOOST score is :\", clf7.best_params_)\n",
    "print(\"AdaBoostClassifier score is :\", clf8.best_params_)"
   ]
  },
  {
   "cell_type": "code",
   "execution_count": 77,
   "id": "f48e61f3",
   "metadata": {},
   "outputs": [
    {
     "name": "stdout",
     "output_type": "stream",
     "text": [
      "LogisticRegression score is : 0.7906683270890702\n",
      "KNeighborsClassifier score is : 0.7733395017668594\n",
      "GaussianNB score is : 0.6850699292525508\n",
      "Support vector machine score is : 0.7718397347986292\n",
      "DecisionTreeClassifier score is : 0.810513296227582\n",
      "RandomForestClassifier score is : 0.8074446223186336\n",
      "XGBOOST score is : 0.7990901323955809\n",
      "AdaBoostClassifier score is : 0.797107388724977\n"
     ]
    }
   ],
   "source": [
    "#Score for all model\n",
    "print(\"LogisticRegression score is :\", clf1.best_score_)\n",
    "print(\"KNeighborsClassifier score is :\", clf2.best_score_)\n",
    "print(\"GaussianNB score is :\", clf3.best_score_)\n",
    "print(\"Support vector machine score is :\", clf4.best_score_)\n",
    "print(\"DecisionTreeClassifier score is :\", clf5.best_score_)\n",
    "print(\"RandomForestClassifier score is :\", clf6.best_score_)\n",
    "print(\"XGBOOST score is :\", clf7.best_score_)\n",
    "print(\"AdaBoostClassifier score is :\", clf8.best_score_)"
   ]
  },
  {
   "cell_type": "code",
   "execution_count": 116,
   "id": "b18f28c6",
   "metadata": {},
   "outputs": [
    {
     "name": "stdout",
     "output_type": "stream",
     "text": [
      "LogisticRegression score is : 0.7904761904761904\n",
      "KNeighborsClassifier score is : 0.8105263157894737\n",
      "DecisionTreeClassifier score is : 0.7904761904761904\n",
      "RandomForestClassifier score is : 0.8222222222222222\n",
      "XGBOOST score is : 0.8172043010752689\n",
      "AdaBoostClassifier score is : 0.7835051546391752\n"
     ]
    }
   ],
   "source": [
    "print(\"LogisticRegression score is :\", preci_log)\n",
    "print(\"KNeighborsClassifier score is :\", preci_knn)\n",
    "print(\"DecisionTreeClassifier score is :\", preci_dt)\n",
    "print(\"RandomForestClassifier score is :\", precision)\n",
    "print(\"XGBOOST score is :\", preci_xgb)\n",
    "print(\"AdaBoostClassifier score is :\", preci_adb)"
   ]
  },
  {
   "cell_type": "markdown",
   "id": "9d6b48ca",
   "metadata": {},
   "source": [
    "# Feature Selection"
   ]
  },
  {
   "cell_type": "code",
   "execution_count": 79,
   "id": "609961f5",
   "metadata": {},
   "outputs": [
    {
     "data": {
      "text/html": [
       "<style type=\"text/css\">\n",
       "#T_4aae5_row0_col0, #T_4aae5_row1_col1, #T_4aae5_row2_col2, #T_4aae5_row3_col3, #T_4aae5_row4_col4, #T_4aae5_row5_col5, #T_4aae5_row6_col6, #T_4aae5_row7_col7, #T_4aae5_row8_col8, #T_4aae5_row9_col9, #T_4aae5_row10_col10 {\n",
       "  background-color: #b40426;\n",
       "  color: #f1f1f1;\n",
       "}\n",
       "#T_4aae5_row0_col1, #T_4aae5_row0_col4, #T_4aae5_row0_col7, #T_4aae5_row1_col0, #T_4aae5_row3_col6, #T_4aae5_row5_col8, #T_4aae5_row5_col10, #T_4aae5_row6_col3, #T_4aae5_row7_col2, #T_4aae5_row7_col8, #T_4aae5_row7_col9, #T_4aae5_row10_col5 {\n",
       "  background-color: #3b4cc0;\n",
       "  color: #f1f1f1;\n",
       "}\n",
       "#T_4aae5_row0_col2 {\n",
       "  background-color: #f0cdbb;\n",
       "  color: #000000;\n",
       "}\n",
       "#T_4aae5_row0_col3, #T_4aae5_row7_col4 {\n",
       "  background-color: #4c66d6;\n",
       "  color: #f1f1f1;\n",
       "}\n",
       "#T_4aae5_row0_col5, #T_4aae5_row1_col5, #T_4aae5_row5_col7, #T_4aae5_row7_col3 {\n",
       "  background-color: #6b8df0;\n",
       "  color: #f1f1f1;\n",
       "}\n",
       "#T_4aae5_row0_col6 {\n",
       "  background-color: #7295f4;\n",
       "  color: #f1f1f1;\n",
       "}\n",
       "#T_4aae5_row0_col8, #T_4aae5_row2_col5, #T_4aae5_row8_col10 {\n",
       "  background-color: #7699f6;\n",
       "  color: #f1f1f1;\n",
       "}\n",
       "#T_4aae5_row0_col9, #T_4aae5_row4_col6, #T_4aae5_row5_col2 {\n",
       "  background-color: #6485ec;\n",
       "  color: #f1f1f1;\n",
       "}\n",
       "#T_4aae5_row0_col10, #T_4aae5_row1_col10, #T_4aae5_row4_col0, #T_4aae5_row10_col6 {\n",
       "  background-color: #5572df;\n",
       "  color: #f1f1f1;\n",
       "}\n",
       "#T_4aae5_row1_col2, #T_4aae5_row6_col7, #T_4aae5_row9_col0 {\n",
       "  background-color: #7da0f9;\n",
       "  color: #f1f1f1;\n",
       "}\n",
       "#T_4aae5_row1_col3, #T_4aae5_row8_col5 {\n",
       "  background-color: #4e68d8;\n",
       "  color: #f1f1f1;\n",
       "}\n",
       "#T_4aae5_row1_col4 {\n",
       "  background-color: #455cce;\n",
       "  color: #f1f1f1;\n",
       "}\n",
       "#T_4aae5_row1_col6, #T_4aae5_row6_col0, #T_4aae5_row7_col5 {\n",
       "  background-color: #7093f3;\n",
       "  color: #f1f1f1;\n",
       "}\n",
       "#T_4aae5_row1_col7, #T_4aae5_row9_col6 {\n",
       "  background-color: #5a78e4;\n",
       "  color: #f1f1f1;\n",
       "}\n",
       "#T_4aae5_row1_col8, #T_4aae5_row10_col1 {\n",
       "  background-color: #5875e1;\n",
       "  color: #f1f1f1;\n",
       "}\n",
       "#T_4aae5_row1_col9, #T_4aae5_row2_col4, #T_4aae5_row9_col4 {\n",
       "  background-color: #3e51c5;\n",
       "  color: #f1f1f1;\n",
       "}\n",
       "#T_4aae5_row2_col0 {\n",
       "  background-color: #f3c7b1;\n",
       "  color: #000000;\n",
       "}\n",
       "#T_4aae5_row2_col1 {\n",
       "  background-color: #90b2fe;\n",
       "  color: #000000;\n",
       "}\n",
       "#T_4aae5_row2_col3, #T_4aae5_row2_col9, #T_4aae5_row10_col3 {\n",
       "  background-color: #6687ed;\n",
       "  color: #f1f1f1;\n",
       "}\n",
       "#T_4aae5_row2_col6 {\n",
       "  background-color: #8caffe;\n",
       "  color: #000000;\n",
       "}\n",
       "#T_4aae5_row2_col7, #T_4aae5_row3_col9 {\n",
       "  background-color: #465ecf;\n",
       "  color: #f1f1f1;\n",
       "}\n",
       "#T_4aae5_row2_col8, #T_4aae5_row8_col2 {\n",
       "  background-color: #7b9ff9;\n",
       "  color: #f1f1f1;\n",
       "}\n",
       "#T_4aae5_row2_col10, #T_4aae5_row9_col5 {\n",
       "  background-color: #536edd;\n",
       "  color: #f1f1f1;\n",
       "}\n",
       "#T_4aae5_row3_col0, #T_4aae5_row3_col5, #T_4aae5_row3_col8 {\n",
       "  background-color: #4a63d3;\n",
       "  color: #f1f1f1;\n",
       "}\n",
       "#T_4aae5_row3_col1, #T_4aae5_row8_col4, #T_4aae5_row8_col9, #T_4aae5_row9_col7 {\n",
       "  background-color: #4b64d5;\n",
       "  color: #f1f1f1;\n",
       "}\n",
       "#T_4aae5_row3_col2, #T_4aae5_row5_col3, #T_4aae5_row6_col10, #T_4aae5_row9_col8 {\n",
       "  background-color: #4f69d9;\n",
       "  color: #f1f1f1;\n",
       "}\n",
       "#T_4aae5_row3_col4 {\n",
       "  background-color: #4055c8;\n",
       "  color: #f1f1f1;\n",
       "}\n",
       "#T_4aae5_row3_col7, #T_4aae5_row3_col10 {\n",
       "  background-color: #6180e9;\n",
       "  color: #f1f1f1;\n",
       "}\n",
       "#T_4aae5_row4_col1, #T_4aae5_row4_col7, #T_4aae5_row4_col10 {\n",
       "  background-color: #5f7fe8;\n",
       "  color: #f1f1f1;\n",
       "}\n",
       "#T_4aae5_row4_col2, #T_4aae5_row6_col8, #T_4aae5_row10_col7 {\n",
       "  background-color: #445acc;\n",
       "  color: #f1f1f1;\n",
       "}\n",
       "#T_4aae5_row4_col3 {\n",
       "  background-color: #5e7de7;\n",
       "  color: #f1f1f1;\n",
       "}\n",
       "#T_4aae5_row4_col5 {\n",
       "  background-color: #6788ee;\n",
       "  color: #f1f1f1;\n",
       "}\n",
       "#T_4aae5_row4_col8, #T_4aae5_row5_col4 {\n",
       "  background-color: #506bda;\n",
       "  color: #f1f1f1;\n",
       "}\n",
       "#T_4aae5_row4_col9, #T_4aae5_row6_col9 {\n",
       "  background-color: #3f53c6;\n",
       "  color: #f1f1f1;\n",
       "}\n",
       "#T_4aae5_row5_col0 {\n",
       "  background-color: #6f92f3;\n",
       "  color: #f1f1f1;\n",
       "}\n",
       "#T_4aae5_row5_col1, #T_4aae5_row6_col1 {\n",
       "  background-color: #6e90f2;\n",
       "  color: #f1f1f1;\n",
       "}\n",
       "#T_4aae5_row5_col6 {\n",
       "  background-color: #cfdaea;\n",
       "  color: #000000;\n",
       "}\n",
       "#T_4aae5_row5_col9 {\n",
       "  background-color: #3d50c3;\n",
       "  color: #f1f1f1;\n",
       "}\n",
       "#T_4aae5_row6_col2 {\n",
       "  background-color: #779af7;\n",
       "  color: #f1f1f1;\n",
       "}\n",
       "#T_4aae5_row6_col4, #T_4aae5_row8_col7, #T_4aae5_row10_col9 {\n",
       "  background-color: #485fd1;\n",
       "  color: #f1f1f1;\n",
       "}\n",
       "#T_4aae5_row6_col5 {\n",
       "  background-color: #ccd9ed;\n",
       "  color: #000000;\n",
       "}\n",
       "#T_4aae5_row7_col0 {\n",
       "  background-color: #4358cb;\n",
       "  color: #f1f1f1;\n",
       "}\n",
       "#T_4aae5_row7_col1, #T_4aae5_row10_col8 {\n",
       "  background-color: #6384eb;\n",
       "  color: #f1f1f1;\n",
       "}\n",
       "#T_4aae5_row7_col6 {\n",
       "  background-color: #86a9fc;\n",
       "  color: #f1f1f1;\n",
       "}\n",
       "#T_4aae5_row7_col10, #T_4aae5_row10_col4 {\n",
       "  background-color: #4961d2;\n",
       "  color: #f1f1f1;\n",
       "}\n",
       "#T_4aae5_row8_col0 {\n",
       "  background-color: #8badfd;\n",
       "  color: #000000;\n",
       "}\n",
       "#T_4aae5_row8_col1 {\n",
       "  background-color: #6c8ff1;\n",
       "  color: #f1f1f1;\n",
       "}\n",
       "#T_4aae5_row8_col3, #T_4aae5_row9_col3 {\n",
       "  background-color: #6282ea;\n",
       "  color: #f1f1f1;\n",
       "}\n",
       "#T_4aae5_row8_col6 {\n",
       "  background-color: #5b7ae5;\n",
       "  color: #f1f1f1;\n",
       "}\n",
       "#T_4aae5_row9_col1 {\n",
       "  background-color: #5673e0;\n",
       "  color: #f1f1f1;\n",
       "}\n",
       "#T_4aae5_row9_col2 {\n",
       "  background-color: #6a8bef;\n",
       "  color: #f1f1f1;\n",
       "}\n",
       "#T_4aae5_row9_col10 {\n",
       "  background-color: #5d7ce6;\n",
       "  color: #f1f1f1;\n",
       "}\n",
       "#T_4aae5_row10_col0 {\n",
       "  background-color: #5977e3;\n",
       "  color: #f1f1f1;\n",
       "}\n",
       "#T_4aae5_row10_col2 {\n",
       "  background-color: #4257c9;\n",
       "  color: #f1f1f1;\n",
       "}\n",
       "</style>\n",
       "<table id=\"T_4aae5\">\n",
       "  <thead>\n",
       "    <tr>\n",
       "      <th class=\"blank level0\" >&nbsp;</th>\n",
       "      <th id=\"T_4aae5_level0_col0\" class=\"col_heading level0 col0\" >ApplicantIncome</th>\n",
       "      <th id=\"T_4aae5_level0_col1\" class=\"col_heading level0 col1\" >CoapplicantIncome</th>\n",
       "      <th id=\"T_4aae5_level0_col2\" class=\"col_heading level0 col2\" >LoanAmount</th>\n",
       "      <th id=\"T_4aae5_level0_col3\" class=\"col_heading level0 col3\" >Loan_Amount_Term</th>\n",
       "      <th id=\"T_4aae5_level0_col4\" class=\"col_heading level0 col4\" >Credit_History</th>\n",
       "      <th id=\"T_4aae5_level0_col5\" class=\"col_heading level0 col5\" >Gender</th>\n",
       "      <th id=\"T_4aae5_level0_col6\" class=\"col_heading level0 col6\" >Married</th>\n",
       "      <th id=\"T_4aae5_level0_col7\" class=\"col_heading level0 col7\" >Dependents</th>\n",
       "      <th id=\"T_4aae5_level0_col8\" class=\"col_heading level0 col8\" >Education</th>\n",
       "      <th id=\"T_4aae5_level0_col9\" class=\"col_heading level0 col9\" >Self_Employed</th>\n",
       "      <th id=\"T_4aae5_level0_col10\" class=\"col_heading level0 col10\" >Property_Area</th>\n",
       "    </tr>\n",
       "  </thead>\n",
       "  <tbody>\n",
       "    <tr>\n",
       "      <th id=\"T_4aae5_level0_row0\" class=\"row_heading level0 row0\" >ApplicantIncome</th>\n",
       "      <td id=\"T_4aae5_row0_col0\" class=\"data row0 col0\" >1.000000</td>\n",
       "      <td id=\"T_4aae5_row0_col1\" class=\"data row0 col1\" >-0.125491</td>\n",
       "      <td id=\"T_4aae5_row0_col2\" class=\"data row0 col2\" >0.566808</td>\n",
       "      <td id=\"T_4aae5_row0_col3\" class=\"data row0 col3\" >-0.066053</td>\n",
       "      <td id=\"T_4aae5_row0_col4\" class=\"data row0 col4\" >-0.027451</td>\n",
       "      <td id=\"T_4aae5_row0_col5\" class=\"data row0 col5\" >0.060692</td>\n",
       "      <td id=\"T_4aae5_row0_col6\" class=\"data row0 col6\" >0.064518</td>\n",
       "      <td id=\"T_4aae5_row0_col7\" class=\"data row0 col7\" >-0.094582</td>\n",
       "      <td id=\"T_4aae5_row0_col8\" class=\"data row0 col8\" >0.147682</td>\n",
       "      <td id=\"T_4aae5_row0_col9\" class=\"data row0 col9\" >0.107226</td>\n",
       "      <td id=\"T_4aae5_row0_col10\" class=\"data row0 col10\" >-0.013456</td>\n",
       "    </tr>\n",
       "    <tr>\n",
       "      <th id=\"T_4aae5_level0_row1\" class=\"row_heading level0 row1\" >CoapplicantIncome</th>\n",
       "      <td id=\"T_4aae5_row1_col0\" class=\"data row1 col0\" >-0.125491</td>\n",
       "      <td id=\"T_4aae5_row1_col1\" class=\"data row1 col1\" >1.000000</td>\n",
       "      <td id=\"T_4aae5_row1_col2\" class=\"data row1 col2\" >0.167810</td>\n",
       "      <td id=\"T_4aae5_row1_col3\" class=\"data row1 col3\" >-0.062652</td>\n",
       "      <td id=\"T_4aae5_row1_col4\" class=\"data row1 col4\" >0.009142</td>\n",
       "      <td id=\"T_4aae5_row1_col5\" class=\"data row1 col5\" >0.058983</td>\n",
       "      <td id=\"T_4aae5_row1_col6\" class=\"data row1 col6\" >0.057264</td>\n",
       "      <td id=\"T_4aae5_row1_col7\" class=\"data row1 col7\" >0.019844</td>\n",
       "      <td id=\"T_4aae5_row1_col8\" class=\"data row1 col8\" >0.054239</td>\n",
       "      <td id=\"T_4aae5_row1_col9\" class=\"data row1 col9\" >-0.020712</td>\n",
       "      <td id=\"T_4aae5_row1_col10\" class=\"data row1 col10\" >-0.016783</td>\n",
       "    </tr>\n",
       "    <tr>\n",
       "      <th id=\"T_4aae5_level0_row2\" class=\"row_heading level0 row2\" >LoanAmount</th>\n",
       "      <td id=\"T_4aae5_row2_col0\" class=\"data row2 col0\" >0.566808</td>\n",
       "      <td id=\"T_4aae5_row2_col1\" class=\"data row2 col1\" >0.167810</td>\n",
       "      <td id=\"T_4aae5_row2_col2\" class=\"data row2 col2\" >1.000000</td>\n",
       "      <td id=\"T_4aae5_row2_col3\" class=\"data row2 col3\" >0.023619</td>\n",
       "      <td id=\"T_4aae5_row2_col4\" class=\"data row2 col4\" >-0.013676</td>\n",
       "      <td id=\"T_4aae5_row2_col5\" class=\"data row2 col5\" >0.094901</td>\n",
       "      <td id=\"T_4aae5_row2_col6\" class=\"data row2 col6\" >0.148822</td>\n",
       "      <td id=\"T_4aae5_row2_col7\" class=\"data row2 col7\" >-0.048331</td>\n",
       "      <td id=\"T_4aae5_row2_col8\" class=\"data row2 col8\" >0.163636</td>\n",
       "      <td id=\"T_4aae5_row2_col9\" class=\"data row2 col9\" >0.109723</td>\n",
       "      <td id=\"T_4aae5_row2_col10\" class=\"data row2 col10\" >-0.023429</td>\n",
       "    </tr>\n",
       "    <tr>\n",
       "      <th id=\"T_4aae5_level0_row3\" class=\"row_heading level0 row3\" >Loan_Amount_Term</th>\n",
       "      <td id=\"T_4aae5_row3_col0\" class=\"data row3 col0\" >-0.066053</td>\n",
       "      <td id=\"T_4aae5_row3_col1\" class=\"data row3 col1\" >-0.062652</td>\n",
       "      <td id=\"T_4aae5_row3_col2\" class=\"data row3 col2\" >0.023619</td>\n",
       "      <td id=\"T_4aae5_row3_col3\" class=\"data row3 col3\" >1.000000</td>\n",
       "      <td id=\"T_4aae5_row3_col4\" class=\"data row3 col4\" >-0.005234</td>\n",
       "      <td id=\"T_4aae5_row3_col5\" class=\"data row3 col5\" >-0.054418</td>\n",
       "      <td id=\"T_4aae5_row3_col6\" class=\"data row3 col6\" >-0.133954</td>\n",
       "      <td id=\"T_4aae5_row3_col7\" class=\"data row3 col7\" >0.040067</td>\n",
       "      <td id=\"T_4aae5_row3_col8\" class=\"data row3 col8\" >0.010077</td>\n",
       "      <td id=\"T_4aae5_row3_col9\" class=\"data row3 col9\" >0.010791</td>\n",
       "      <td id=\"T_4aae5_row3_col10\" class=\"data row3 col10\" >0.023255</td>\n",
       "    </tr>\n",
       "    <tr>\n",
       "      <th id=\"T_4aae5_level0_row4\" class=\"row_heading level0 row4\" >Credit_History</th>\n",
       "      <td id=\"T_4aae5_row4_col0\" class=\"data row4 col0\" >-0.027451</td>\n",
       "      <td id=\"T_4aae5_row4_col1\" class=\"data row4 col1\" >0.009142</td>\n",
       "      <td id=\"T_4aae5_row4_col2\" class=\"data row4 col2\" >-0.013676</td>\n",
       "      <td id=\"T_4aae5_row4_col3\" class=\"data row4 col3\" >-0.005234</td>\n",
       "      <td id=\"T_4aae5_row4_col4\" class=\"data row4 col4\" >1.000000</td>\n",
       "      <td id=\"T_4aae5_row4_col5\" class=\"data row4 col5\" >0.047174</td>\n",
       "      <td id=\"T_4aae5_row4_col6\" class=\"data row4 col6\" >0.019078</td>\n",
       "      <td id=\"T_4aae5_row4_col7\" class=\"data row4 col7\" >0.035569</td>\n",
       "      <td id=\"T_4aae5_row4_col8\" class=\"data row4 col8\" >0.030231</td>\n",
       "      <td id=\"T_4aae5_row4_col9\" class=\"data row4 col9\" >-0.013552</td>\n",
       "      <td id=\"T_4aae5_row4_col10\" class=\"data row4 col10\" >0.021656</td>\n",
       "    </tr>\n",
       "    <tr>\n",
       "      <th id=\"T_4aae5_level0_row5\" class=\"row_heading level0 row5\" >Gender</th>\n",
       "      <td id=\"T_4aae5_row5_col0\" class=\"data row5 col0\" >0.060692</td>\n",
       "      <td id=\"T_4aae5_row5_col1\" class=\"data row5 col1\" >0.058983</td>\n",
       "      <td id=\"T_4aae5_row5_col2\" class=\"data row5 col2\" >0.094901</td>\n",
       "      <td id=\"T_4aae5_row5_col3\" class=\"data row5 col3\" >-0.054418</td>\n",
       "      <td id=\"T_4aae5_row5_col4\" class=\"data row5 col4\" >0.047174</td>\n",
       "      <td id=\"T_4aae5_row5_col5\" class=\"data row5 col5\" >1.000000</td>\n",
       "      <td id=\"T_4aae5_row5_col6\" class=\"data row5 col6\" >0.376157</td>\n",
       "      <td id=\"T_4aae5_row5_col7\" class=\"data row5 col7\" >0.075569</td>\n",
       "      <td id=\"T_4aae5_row5_col8\" class=\"data row5 col8\" >-0.042584</td>\n",
       "      <td id=\"T_4aae5_row5_col9\" class=\"data row5 col9\" >-0.024360</td>\n",
       "      <td id=\"T_4aae5_row5_col10\" class=\"data row5 col10\" >-0.112824</td>\n",
       "    </tr>\n",
       "    <tr>\n",
       "      <th id=\"T_4aae5_level0_row6\" class=\"row_heading level0 row6\" >Married</th>\n",
       "      <td id=\"T_4aae5_row6_col0\" class=\"data row6 col0\" >0.064518</td>\n",
       "      <td id=\"T_4aae5_row6_col1\" class=\"data row6 col1\" >0.057264</td>\n",
       "      <td id=\"T_4aae5_row6_col2\" class=\"data row6 col2\" >0.148822</td>\n",
       "      <td id=\"T_4aae5_row6_col3\" class=\"data row6 col3\" >-0.133954</td>\n",
       "      <td id=\"T_4aae5_row6_col4\" class=\"data row6 col4\" >0.019078</td>\n",
       "      <td id=\"T_4aae5_row6_col5\" class=\"data row6 col5\" >0.376157</td>\n",
       "      <td id=\"T_4aae5_row6_col6\" class=\"data row6 col6\" >1.000000</td>\n",
       "      <td id=\"T_4aae5_row6_col7\" class=\"data row6 col7\" >0.130047</td>\n",
       "      <td id=\"T_4aae5_row6_col8\" class=\"data row6 col8\" >-0.010903</td>\n",
       "      <td id=\"T_4aae5_row6_col9\" class=\"data row6 col9\" >-0.014650</td>\n",
       "      <td id=\"T_4aae5_row6_col10\" class=\"data row6 col10\" >-0.034772</td>\n",
       "    </tr>\n",
       "    <tr>\n",
       "      <th id=\"T_4aae5_level0_row7\" class=\"row_heading level0 row7\" >Dependents</th>\n",
       "      <td id=\"T_4aae5_row7_col0\" class=\"data row7 col0\" >-0.094582</td>\n",
       "      <td id=\"T_4aae5_row7_col1\" class=\"data row7 col1\" >0.019844</td>\n",
       "      <td id=\"T_4aae5_row7_col2\" class=\"data row7 col2\" >-0.048331</td>\n",
       "      <td id=\"T_4aae5_row7_col3\" class=\"data row7 col3\" >0.040067</td>\n",
       "      <td id=\"T_4aae5_row7_col4\" class=\"data row7 col4\" >0.035569</td>\n",
       "      <td id=\"T_4aae5_row7_col5\" class=\"data row7 col5\" >0.075569</td>\n",
       "      <td id=\"T_4aae5_row7_col6\" class=\"data row7 col6\" >0.130047</td>\n",
       "      <td id=\"T_4aae5_row7_col7\" class=\"data row7 col7\" >1.000000</td>\n",
       "      <td id=\"T_4aae5_row7_col8\" class=\"data row7 col8\" >-0.045793</td>\n",
       "      <td id=\"T_4aae5_row7_col9\" class=\"data row7 col9\" >-0.033503</td>\n",
       "      <td id=\"T_4aae5_row7_col10\" class=\"data row7 col10\" >-0.059043</td>\n",
       "    </tr>\n",
       "    <tr>\n",
       "      <th id=\"T_4aae5_level0_row8\" class=\"row_heading level0 row8\" >Education</th>\n",
       "      <td id=\"T_4aae5_row8_col0\" class=\"data row8 col0\" >0.147682</td>\n",
       "      <td id=\"T_4aae5_row8_col1\" class=\"data row8 col1\" >0.054239</td>\n",
       "      <td id=\"T_4aae5_row8_col2\" class=\"data row8 col2\" >0.163636</td>\n",
       "      <td id=\"T_4aae5_row8_col3\" class=\"data row8 col3\" >0.010077</td>\n",
       "      <td id=\"T_4aae5_row8_col4\" class=\"data row8 col4\" >0.030231</td>\n",
       "      <td id=\"T_4aae5_row8_col5\" class=\"data row8 col5\" >-0.042584</td>\n",
       "      <td id=\"T_4aae5_row8_col6\" class=\"data row8 col6\" >-0.010903</td>\n",
       "      <td id=\"T_4aae5_row8_col7\" class=\"data row8 col7\" >-0.045793</td>\n",
       "      <td id=\"T_4aae5_row8_col8\" class=\"data row8 col8\" >1.000000</td>\n",
       "      <td id=\"T_4aae5_row8_col9\" class=\"data row8 col9\" >0.024098</td>\n",
       "      <td id=\"T_4aae5_row8_col10\" class=\"data row8 col10\" >0.092088</td>\n",
       "    </tr>\n",
       "    <tr>\n",
       "      <th id=\"T_4aae5_level0_row9\" class=\"row_heading level0 row9\" >Self_Employed</th>\n",
       "      <td id=\"T_4aae5_row9_col0\" class=\"data row9 col0\" >0.107226</td>\n",
       "      <td id=\"T_4aae5_row9_col1\" class=\"data row9 col1\" >-0.020712</td>\n",
       "      <td id=\"T_4aae5_row9_col2\" class=\"data row9 col2\" >0.109723</td>\n",
       "      <td id=\"T_4aae5_row9_col3\" class=\"data row9 col3\" >0.010791</td>\n",
       "      <td id=\"T_4aae5_row9_col4\" class=\"data row9 col4\" >-0.013552</td>\n",
       "      <td id=\"T_4aae5_row9_col5\" class=\"data row9 col5\" >-0.024360</td>\n",
       "      <td id=\"T_4aae5_row9_col6\" class=\"data row9 col6\" >-0.014650</td>\n",
       "      <td id=\"T_4aae5_row9_col7\" class=\"data row9 col7\" >-0.033503</td>\n",
       "      <td id=\"T_4aae5_row9_col8\" class=\"data row9 col8\" >0.024098</td>\n",
       "      <td id=\"T_4aae5_row9_col9\" class=\"data row9 col9\" >1.000000</td>\n",
       "      <td id=\"T_4aae5_row9_col10\" class=\"data row9 col10\" >0.012884</td>\n",
       "    </tr>\n",
       "    <tr>\n",
       "      <th id=\"T_4aae5_level0_row10\" class=\"row_heading level0 row10\" >Property_Area</th>\n",
       "      <td id=\"T_4aae5_row10_col0\" class=\"data row10 col0\" >-0.013456</td>\n",
       "      <td id=\"T_4aae5_row10_col1\" class=\"data row10 col1\" >-0.016783</td>\n",
       "      <td id=\"T_4aae5_row10_col2\" class=\"data row10 col2\" >-0.023429</td>\n",
       "      <td id=\"T_4aae5_row10_col3\" class=\"data row10 col3\" >0.023255</td>\n",
       "      <td id=\"T_4aae5_row10_col4\" class=\"data row10 col4\" >0.021656</td>\n",
       "      <td id=\"T_4aae5_row10_col5\" class=\"data row10 col5\" >-0.112824</td>\n",
       "      <td id=\"T_4aae5_row10_col6\" class=\"data row10 col6\" >-0.034772</td>\n",
       "      <td id=\"T_4aae5_row10_col7\" class=\"data row10 col7\" >-0.059043</td>\n",
       "      <td id=\"T_4aae5_row10_col8\" class=\"data row10 col8\" >0.092088</td>\n",
       "      <td id=\"T_4aae5_row10_col9\" class=\"data row10 col9\" >0.012884</td>\n",
       "      <td id=\"T_4aae5_row10_col10\" class=\"data row10 col10\" >1.000000</td>\n",
       "    </tr>\n",
       "  </tbody>\n",
       "</table>\n"
      ],
      "text/plain": [
       "<pandas.io.formats.style.Styler at 0x1c53f793a30>"
      ]
     },
     "execution_count": 79,
     "metadata": {},
     "output_type": "execute_result"
    }
   ],
   "source": [
    "corr = train_x1.corr()\n",
    "corr.style.background_gradient(cmap='coolwarm')"
   ]
  },
  {
   "cell_type": "code",
   "execution_count": 80,
   "id": "57b5e2dd",
   "metadata": {},
   "outputs": [],
   "source": [
    "def correlation(dataset, threshold):\n",
    "    col_corr = set()\n",
    "    corr_matrix = dataset.corr()\n",
    "    for i in range (len(corr_matrix.columns)):\n",
    "        for j in range(i):\n",
    "            if abs(corr_matrix.iloc[i,j]) > threshold:\n",
    "                colname = corr_matrix.columns[i]\n",
    "                col_corr.add(colname)\n",
    "    return col_corr"
   ]
  },
  {
   "cell_type": "code",
   "execution_count": 81,
   "id": "5db30bbb",
   "metadata": {},
   "outputs": [
    {
     "data": {
      "text/plain": [
       "0"
      ]
     },
     "execution_count": 81,
     "metadata": {},
     "output_type": "execute_result"
    }
   ],
   "source": [
    "corr_features = correlation(train_x1, 0.7)\n",
    "len(set(corr_features))"
   ]
  },
  {
   "cell_type": "markdown",
   "id": "fc674299",
   "metadata": {},
   "source": [
    "Here in this dataset have no correlation of each other."
   ]
  },
  {
   "cell_type": "code",
   "execution_count": 118,
   "id": "b0463602",
   "metadata": {},
   "outputs": [
    {
     "name": "stdout",
     "output_type": "stream",
     "text": [
      "Best Score Here of Hyperperameter:\n",
      "RandomForestClassifier score is: 0.8074446223186336\n",
      "XGBClassifier score is: 0.7990901323955809\n"
     ]
    }
   ],
   "source": [
    "print(\"Best Score Here of Hyperperameter:\")\n",
    "print('RandomForestClassifier score is:', clf6.best_score_)\n",
    "print('XGBClassifier score is:', clf7.best_score_)"
   ]
  },
  {
   "cell_type": "code",
   "execution_count": 117,
   "id": "86ff1086",
   "metadata": {},
   "outputs": [
    {
     "name": "stdout",
     "output_type": "stream",
     "text": [
      "Best score of model after Hyperperameter\n",
      "RandomForestClassifier score is : 0.8222222222222222\n",
      "XGBOOST score is : 0.8172043010752689\n"
     ]
    }
   ],
   "source": [
    "print(\"Best score of model after Hyperperameter\")\n",
    "print(\"RandomForestClassifier score is :\", precision)\n",
    "print(\"XGBOOST score is :\", preci_xgb)"
   ]
  },
  {
   "cell_type": "code",
   "execution_count": 84,
   "id": "e8212638",
   "metadata": {},
   "outputs": [],
   "source": [
    "from sklearn.metrics import ConfusionMatrixDisplay"
   ]
  },
  {
   "cell_type": "code",
   "execution_count": 85,
   "id": "51130427",
   "metadata": {},
   "outputs": [
    {
     "name": "stdout",
     "output_type": "stream",
     "text": [
      "RandomForestClassifier of confusion_matrix is:\n",
      "<sklearn.metrics._plot.confusion_matrix.ConfusionMatrixDisplay object at 0x000001C54016E500>\n"
     ]
    },
    {
     "data": {
      "image/png": "[encoded data removed]",
      "text/plain": [
       "<Figure size 640x480 with 2 Axes>"
      ]
     },
     "metadata": {},
     "output_type": "display_data"
    }
   ],
   "source": [
    "print('RandomForestClassifier of confusion_matrix is:')\n",
    "print(ConfusionMatrixDisplay.from_predictions(test_y, pred_rfc1))"
   ]
  },
  {
   "cell_type": "code",
   "execution_count": 86,
   "id": "8caea556",
   "metadata": {},
   "outputs": [
    {
     "name": "stdout",
     "output_type": "stream",
     "text": [
      "XGBClassifier of confusion_matrix is:\n",
      "<sklearn.metrics._plot.confusion_matrix.ConfusionMatrixDisplay object at 0x000001C53FFF64D0>\n"
     ]
    },
    {
     "data": {
      "image/png": "[encoded data removed]",
      "text/plain": [
       "<Figure size 640x480 with 2 Axes>"
      ]
     },
     "metadata": {},
     "output_type": "display_data"
    }
   ],
   "source": [
    "print('XGBClassifier of confusion_matrix is:')\n",
    "print(ConfusionMatrixDisplay.from_predictions(test_y, pred_xgb1))"
   ]
  },
  {
   "cell_type": "code",
   "execution_count": 87,
   "id": "f40caf23",
   "metadata": {},
   "outputs": [],
   "source": [
    "#Now, testing the new data for checking \n",
    "df2\n",
    "new_df={\"Gender\": \"Male\", \"Married\":\"No\", \"Dependents\":\"1\", \"Education\": \"Graduate\", \"Self_Employed\": \"Yes\", \n",
    "        \"ApplicantIncome\" : 8500,'CoapplicantIncome': 1900,  'LoanAmount' : 150,'Loan_Amount_Term' : 360,\n",
    "       'Credit_History': 1,'Property_Area' : \"Rural\"}\n",
    "index = [0]"
   ]
  },
  {
   "cell_type": "code",
   "execution_count": 88,
   "id": "87ee47fe",
   "metadata": {},
   "outputs": [],
   "source": [
    "new_df = pd.DataFrame(new_df,index=index)"
   ]
  },
  {
   "cell_type": "code",
   "execution_count": 89,
   "id": "4ff9ba23",
   "metadata": {},
   "outputs": [
    {
     "data": {
      "text/html": [
       "<div>\n",
       "<style scoped>\n",
       "    .dataframe tbody tr th:only-of-type {\n",
       "        vertical-align: middle;\n",
       "    }\n",
       "\n",
       "    .dataframe tbody tr th {\n",
       "        vertical-align: top;\n",
       "    }\n",
       "\n",
       "    .dataframe thead th {\n",
       "        text-align: right;\n",
       "    }\n",
       "</style>\n",
       "<table border=\"1\" class=\"dataframe\">\n",
       "  <thead>\n",
       "    <tr style=\"text-align: right;\">\n",
       "      <th></th>\n",
       "      <th>Gender</th>\n",
       "      <th>Married</th>\n",
       "      <th>Dependents</th>\n",
       "      <th>Education</th>\n",
       "      <th>Self_Employed</th>\n",
       "      <th>ApplicantIncome</th>\n",
       "      <th>CoapplicantIncome</th>\n",
       "      <th>LoanAmount</th>\n",
       "      <th>Loan_Amount_Term</th>\n",
       "      <th>Credit_History</th>\n",
       "      <th>Property_Area</th>\n",
       "    </tr>\n",
       "  </thead>\n",
       "  <tbody>\n",
       "    <tr>\n",
       "      <th>0</th>\n",
       "      <td>Male</td>\n",
       "      <td>No</td>\n",
       "      <td>1</td>\n",
       "      <td>Graduate</td>\n",
       "      <td>Yes</td>\n",
       "      <td>8500</td>\n",
       "      <td>1900</td>\n",
       "      <td>150</td>\n",
       "      <td>360</td>\n",
       "      <td>1</td>\n",
       "      <td>Rural</td>\n",
       "    </tr>\n",
       "  </tbody>\n",
       "</table>\n",
       "</div>"
      ],
      "text/plain": [
       "  Gender Married Dependents Education Self_Employed  ApplicantIncome  \\\n",
       "0   Male      No          1  Graduate           Yes             8500   \n",
       "\n",
       "   CoapplicantIncome  LoanAmount  Loan_Amount_Term  Credit_History  \\\n",
       "0               1900         150               360               1   \n",
       "\n",
       "  Property_Area  \n",
       "0         Rural  "
      ]
     },
     "execution_count": 89,
     "metadata": {},
     "output_type": "execute_result"
    }
   ],
   "source": [
    "new_df"
   ]
  },
  {
   "cell_type": "code",
   "execution_count": 90,
   "id": "1c3444aa",
   "metadata": {},
   "outputs": [],
   "source": [
    "new_cat = new_df.select_dtypes(include=\"object\")\n",
    "new_num = new_df.select_dtypes(include=\"number\")"
   ]
  },
  {
   "cell_type": "code",
   "execution_count": 91,
   "id": "9b3ef06e",
   "metadata": {},
   "outputs": [],
   "source": [
    "new_cat = encoder.transform(new_cat)"
   ]
  },
  {
   "cell_type": "code",
   "execution_count": 92,
   "id": "7622dbde",
   "metadata": {},
   "outputs": [
    {
     "data": {
      "text/html": [
       "<div>\n",
       "<style scoped>\n",
       "    .dataframe tbody tr th:only-of-type {\n",
       "        vertical-align: middle;\n",
       "    }\n",
       "\n",
       "    .dataframe tbody tr th {\n",
       "        vertical-align: top;\n",
       "    }\n",
       "\n",
       "    .dataframe thead th {\n",
       "        text-align: right;\n",
       "    }\n",
       "</style>\n",
       "<table border=\"1\" class=\"dataframe\">\n",
       "  <thead>\n",
       "    <tr style=\"text-align: right;\">\n",
       "      <th></th>\n",
       "      <th>Gender</th>\n",
       "      <th>Married</th>\n",
       "      <th>Dependents</th>\n",
       "      <th>Education</th>\n",
       "      <th>Self_Employed</th>\n",
       "      <th>Property_Area</th>\n",
       "    </tr>\n",
       "  </thead>\n",
       "  <tbody>\n",
       "    <tr>\n",
       "      <th>0</th>\n",
       "      <td>0.690594</td>\n",
       "      <td>0.616766</td>\n",
       "      <td>0.649351</td>\n",
       "      <td>0.701031</td>\n",
       "      <td>0.7</td>\n",
       "      <td>0.613333</td>\n",
       "    </tr>\n",
       "  </tbody>\n",
       "</table>\n",
       "</div>"
      ],
      "text/plain": [
       "     Gender   Married  Dependents  Education  Self_Employed  Property_Area\n",
       "0  0.690594  0.616766    0.649351   0.701031            0.7       0.613333"
      ]
     },
     "execution_count": 92,
     "metadata": {},
     "output_type": "execute_result"
    }
   ],
   "source": [
    "new_cat"
   ]
  },
  {
   "cell_type": "code",
   "execution_count": 93,
   "id": "3c6755f5",
   "metadata": {},
   "outputs": [],
   "source": [
    "new_df = pd.concat([new_num, new_cat], axis=1)"
   ]
  },
  {
   "cell_type": "code",
   "execution_count": 94,
   "id": "e8bc8bf9",
   "metadata": {},
   "outputs": [
    {
     "data": {
      "text/html": [
       "<div>\n",
       "<style scoped>\n",
       "    .dataframe tbody tr th:only-of-type {\n",
       "        vertical-align: middle;\n",
       "    }\n",
       "\n",
       "    .dataframe tbody tr th {\n",
       "        vertical-align: top;\n",
       "    }\n",
       "\n",
       "    .dataframe thead th {\n",
       "        text-align: right;\n",
       "    }\n",
       "</style>\n",
       "<table border=\"1\" class=\"dataframe\">\n",
       "  <thead>\n",
       "    <tr style=\"text-align: right;\">\n",
       "      <th></th>\n",
       "      <th>ApplicantIncome</th>\n",
       "      <th>CoapplicantIncome</th>\n",
       "      <th>LoanAmount</th>\n",
       "      <th>Loan_Amount_Term</th>\n",
       "      <th>Credit_History</th>\n",
       "      <th>Gender</th>\n",
       "      <th>Married</th>\n",
       "      <th>Dependents</th>\n",
       "      <th>Education</th>\n",
       "      <th>Self_Employed</th>\n",
       "      <th>Property_Area</th>\n",
       "    </tr>\n",
       "  </thead>\n",
       "  <tbody>\n",
       "    <tr>\n",
       "      <th>0</th>\n",
       "      <td>8500</td>\n",
       "      <td>1900</td>\n",
       "      <td>150</td>\n",
       "      <td>360</td>\n",
       "      <td>1</td>\n",
       "      <td>0.690594</td>\n",
       "      <td>0.616766</td>\n",
       "      <td>0.649351</td>\n",
       "      <td>0.701031</td>\n",
       "      <td>0.7</td>\n",
       "      <td>0.613333</td>\n",
       "    </tr>\n",
       "  </tbody>\n",
       "</table>\n",
       "</div>"
      ],
      "text/plain": [
       "   ApplicantIncome  CoapplicantIncome  LoanAmount  Loan_Amount_Term  \\\n",
       "0             8500               1900         150               360   \n",
       "\n",
       "   Credit_History    Gender   Married  Dependents  Education  Self_Employed  \\\n",
       "0               1  0.690594  0.616766    0.649351   0.701031            0.7   \n",
       "\n",
       "   Property_Area  \n",
       "0       0.613333  "
      ]
     },
     "execution_count": 94,
     "metadata": {},
     "output_type": "execute_result"
    }
   ],
   "source": [
    "new_df"
   ]
  },
  {
   "cell_type": "code",
   "execution_count": 95,
   "id": "6ba1b18d",
   "metadata": {},
   "outputs": [],
   "source": [
    "new_df =pd.DataFrame(scaler.transform(new_df), columns=new_df.columns)"
   ]
  },
  {
   "cell_type": "code",
   "execution_count": 96,
   "id": "0ce664b2",
   "metadata": {},
   "outputs": [
    {
     "data": {
      "text/html": [
       "<div>\n",
       "<style scoped>\n",
       "    .dataframe tbody tr th:only-of-type {\n",
       "        vertical-align: middle;\n",
       "    }\n",
       "\n",
       "    .dataframe tbody tr th {\n",
       "        vertical-align: top;\n",
       "    }\n",
       "\n",
       "    .dataframe thead th {\n",
       "        text-align: right;\n",
       "    }\n",
       "</style>\n",
       "<table border=\"1\" class=\"dataframe\">\n",
       "  <thead>\n",
       "    <tr style=\"text-align: right;\">\n",
       "      <th></th>\n",
       "      <th>ApplicantIncome</th>\n",
       "      <th>CoapplicantIncome</th>\n",
       "      <th>LoanAmount</th>\n",
       "      <th>Loan_Amount_Term</th>\n",
       "      <th>Credit_History</th>\n",
       "      <th>Gender</th>\n",
       "      <th>Married</th>\n",
       "      <th>Dependents</th>\n",
       "      <th>Education</th>\n",
       "      <th>Self_Employed</th>\n",
       "      <th>Property_Area</th>\n",
       "    </tr>\n",
       "  </thead>\n",
       "  <tbody>\n",
       "    <tr>\n",
       "      <th>0</th>\n",
       "      <td>1.539611</td>\n",
       "      <td>0.274585</td>\n",
       "      <td>0.271429</td>\n",
       "      <td>0.0</td>\n",
       "      <td>0.0</td>\n",
       "      <td>0.0</td>\n",
       "      <td>-1.0</td>\n",
       "      <td>-0.031205</td>\n",
       "      <td>0.0</td>\n",
       "      <td>0.015914</td>\n",
       "      <td>-0.304233</td>\n",
       "    </tr>\n",
       "  </tbody>\n",
       "</table>\n",
       "</div>"
      ],
      "text/plain": [
       "   ApplicantIncome  CoapplicantIncome  LoanAmount  Loan_Amount_Term  \\\n",
       "0         1.539611           0.274585    0.271429               0.0   \n",
       "\n",
       "   Credit_History  Gender  Married  Dependents  Education  Self_Employed  \\\n",
       "0             0.0     0.0     -1.0   -0.031205        0.0       0.015914   \n",
       "\n",
       "   Property_Area  \n",
       "0      -0.304233  "
      ]
     },
     "execution_count": 96,
     "metadata": {},
     "output_type": "execute_result"
    }
   ],
   "source": [
    "new_df"
   ]
  },
  {
   "cell_type": "code",
   "execution_count": 97,
   "id": "a068854d",
   "metadata": {},
   "outputs": [
    {
     "data": {
      "text/plain": [
       "array([1])"
      ]
     },
     "execution_count": 97,
     "metadata": {},
     "output_type": "execute_result"
    }
   ],
   "source": [
    "prediction1 = rfc_model1.predict(new_df)\n",
    "prediction1"
   ]
  },
  {
   "cell_type": "code",
   "execution_count": 98,
   "id": "eb5a3dce",
   "metadata": {},
   "outputs": [
    {
     "name": "stdout",
     "output_type": "stream",
     "text": [
      "Loan pass\n",
      "['Y']\n"
     ]
    }
   ],
   "source": [
    "if prediction1 ==1:\n",
    "    print(\"Loan pass\")\n",
    "else:\n",
    "    print(\"Loan Not Pass\")\n",
    "print(label.inverse_transform(prediction1))\n"
   ]
  },
  {
   "cell_type": "code",
   "execution_count": 99,
   "id": "6dbdcaec",
   "metadata": {},
   "outputs": [],
   "source": [
    "#Now, testing the new data for checking \n",
    "new_df1={\"Gender\": \"Female\", \"Married\":\"Yes\", \"Dependents\":\"0\", \"Education\": \"Graduate\", \"Self_Employed\": \"No\", \n",
    "        \"ApplicantIncome\" : 5600,'CoapplicantIncome': 0,  'LoanAmount' : 185,'Loan_Amount_Term' : 360,\n",
    "       'Credit_History': 1,'Property_Area' : \"Rural\"}\n",
    "index = [0]"
   ]
  },
  {
   "cell_type": "code",
   "execution_count": 100,
   "id": "43c11b19",
   "metadata": {},
   "outputs": [],
   "source": [
    "new_df1 = pd.DataFrame(new_df1, index=index)"
   ]
  },
  {
   "cell_type": "code",
   "execution_count": 101,
   "id": "999ee794",
   "metadata": {},
   "outputs": [
    {
     "data": {
      "text/html": [
       "<div>\n",
       "<style scoped>\n",
       "    .dataframe tbody tr th:only-of-type {\n",
       "        vertical-align: middle;\n",
       "    }\n",
       "\n",
       "    .dataframe tbody tr th {\n",
       "        vertical-align: top;\n",
       "    }\n",
       "\n",
       "    .dataframe thead th {\n",
       "        text-align: right;\n",
       "    }\n",
       "</style>\n",
       "<table border=\"1\" class=\"dataframe\">\n",
       "  <thead>\n",
       "    <tr style=\"text-align: right;\">\n",
       "      <th></th>\n",
       "      <th>Gender</th>\n",
       "      <th>Married</th>\n",
       "      <th>Dependents</th>\n",
       "      <th>Education</th>\n",
       "      <th>Self_Employed</th>\n",
       "      <th>ApplicantIncome</th>\n",
       "      <th>CoapplicantIncome</th>\n",
       "      <th>LoanAmount</th>\n",
       "      <th>Loan_Amount_Term</th>\n",
       "      <th>Credit_History</th>\n",
       "      <th>Property_Area</th>\n",
       "    </tr>\n",
       "  </thead>\n",
       "  <tbody>\n",
       "    <tr>\n",
       "      <th>0</th>\n",
       "      <td>Female</td>\n",
       "      <td>Yes</td>\n",
       "      <td>0</td>\n",
       "      <td>Graduate</td>\n",
       "      <td>No</td>\n",
       "      <td>5600</td>\n",
       "      <td>0</td>\n",
       "      <td>185</td>\n",
       "      <td>360</td>\n",
       "      <td>1</td>\n",
       "      <td>Rural</td>\n",
       "    </tr>\n",
       "  </tbody>\n",
       "</table>\n",
       "</div>"
      ],
      "text/plain": [
       "   Gender Married Dependents Education Self_Employed  ApplicantIncome  \\\n",
       "0  Female     Yes          0  Graduate            No             5600   \n",
       "\n",
       "   CoapplicantIncome  LoanAmount  Loan_Amount_Term  Credit_History  \\\n",
       "0                  0         185               360               1   \n",
       "\n",
       "  Property_Area  \n",
       "0         Rural  "
      ]
     },
     "execution_count": 101,
     "metadata": {},
     "output_type": "execute_result"
    }
   ],
   "source": [
    "new_df1"
   ]
  },
  {
   "cell_type": "code",
   "execution_count": 102,
   "id": "d68810b2",
   "metadata": {},
   "outputs": [],
   "source": [
    "new_cat1 = new_df1.select_dtypes(include=\"object\")\n",
    "new_num1 = new_df1.select_dtypes(include=\"number\")"
   ]
  },
  {
   "cell_type": "code",
   "execution_count": 103,
   "id": "c955ed31",
   "metadata": {},
   "outputs": [],
   "source": [
    "new_cat1 = encoder.transform(new_cat1)"
   ]
  },
  {
   "cell_type": "code",
   "execution_count": 104,
   "id": "98514570",
   "metadata": {},
   "outputs": [
    {
     "data": {
      "text/html": [
       "<div>\n",
       "<style scoped>\n",
       "    .dataframe tbody tr th:only-of-type {\n",
       "        vertical-align: middle;\n",
       "    }\n",
       "\n",
       "    .dataframe tbody tr th {\n",
       "        vertical-align: top;\n",
       "    }\n",
       "\n",
       "    .dataframe thead th {\n",
       "        text-align: right;\n",
       "    }\n",
       "</style>\n",
       "<table border=\"1\" class=\"dataframe\">\n",
       "  <thead>\n",
       "    <tr style=\"text-align: right;\">\n",
       "      <th></th>\n",
       "      <th>Gender</th>\n",
       "      <th>Married</th>\n",
       "      <th>Dependents</th>\n",
       "      <th>Education</th>\n",
       "      <th>Self_Employed</th>\n",
       "      <th>Property_Area</th>\n",
       "    </tr>\n",
       "  </thead>\n",
       "  <tbody>\n",
       "    <tr>\n",
       "      <th>0</th>\n",
       "      <td>0.666667</td>\n",
       "      <td>0.722222</td>\n",
       "      <td>0.680556</td>\n",
       "      <td>0.701031</td>\n",
       "      <td>0.684086</td>\n",
       "      <td>0.613333</td>\n",
       "    </tr>\n",
       "  </tbody>\n",
       "</table>\n",
       "</div>"
      ],
      "text/plain": [
       "     Gender   Married  Dependents  Education  Self_Employed  Property_Area\n",
       "0  0.666667  0.722222    0.680556   0.701031       0.684086       0.613333"
      ]
     },
     "execution_count": 104,
     "metadata": {},
     "output_type": "execute_result"
    }
   ],
   "source": [
    "new_cat1"
   ]
  },
  {
   "cell_type": "code",
   "execution_count": 105,
   "id": "a6758d58",
   "metadata": {},
   "outputs": [],
   "source": [
    "new_df1 = pd.concat([new_num1, new_cat1], axis=1)"
   ]
  },
  {
   "cell_type": "code",
   "execution_count": 106,
   "id": "b39982bd",
   "metadata": {},
   "outputs": [
    {
     "data": {
      "text/html": [
       "<div>\n",
       "<style scoped>\n",
       "    .dataframe tbody tr th:only-of-type {\n",
       "        vertical-align: middle;\n",
       "    }\n",
       "\n",
       "    .dataframe tbody tr th {\n",
       "        vertical-align: top;\n",
       "    }\n",
       "\n",
       "    .dataframe thead th {\n",
       "        text-align: right;\n",
       "    }\n",
       "</style>\n",
       "<table border=\"1\" class=\"dataframe\">\n",
       "  <thead>\n",
       "    <tr style=\"text-align: right;\">\n",
       "      <th></th>\n",
       "      <th>ApplicantIncome</th>\n",
       "      <th>CoapplicantIncome</th>\n",
       "      <th>LoanAmount</th>\n",
       "      <th>Loan_Amount_Term</th>\n",
       "      <th>Credit_History</th>\n",
       "      <th>Gender</th>\n",
       "      <th>Married</th>\n",
       "      <th>Dependents</th>\n",
       "      <th>Education</th>\n",
       "      <th>Self_Employed</th>\n",
       "      <th>Property_Area</th>\n",
       "    </tr>\n",
       "  </thead>\n",
       "  <tbody>\n",
       "    <tr>\n",
       "      <th>0</th>\n",
       "      <td>5600</td>\n",
       "      <td>0</td>\n",
       "      <td>185</td>\n",
       "      <td>360</td>\n",
       "      <td>1</td>\n",
       "      <td>0.666667</td>\n",
       "      <td>0.722222</td>\n",
       "      <td>0.680556</td>\n",
       "      <td>0.701031</td>\n",
       "      <td>0.684086</td>\n",
       "      <td>0.613333</td>\n",
       "    </tr>\n",
       "  </tbody>\n",
       "</table>\n",
       "</div>"
      ],
      "text/plain": [
       "   ApplicantIncome  CoapplicantIncome  LoanAmount  Loan_Amount_Term  \\\n",
       "0             5600                  0         185               360   \n",
       "\n",
       "   Credit_History    Gender   Married  Dependents  Education  Self_Employed  \\\n",
       "0               1  0.666667  0.722222    0.680556   0.701031       0.684086   \n",
       "\n",
       "   Property_Area  \n",
       "0       0.613333  "
      ]
     },
     "execution_count": 106,
     "metadata": {},
     "output_type": "execute_result"
    }
   ],
   "source": [
    "new_df1"
   ]
  },
  {
   "cell_type": "code",
   "execution_count": 107,
   "id": "bfeafef3",
   "metadata": {},
   "outputs": [],
   "source": [
    "new_df1 = pd.DataFrame(scaler.transform(new_df1), columns=new_df1.columns)"
   ]
  },
  {
   "cell_type": "code",
   "execution_count": 108,
   "id": "caa40163",
   "metadata": {},
   "outputs": [
    {
     "data": {
      "text/html": [
       "<div>\n",
       "<style scoped>\n",
       "    .dataframe tbody tr th:only-of-type {\n",
       "        vertical-align: middle;\n",
       "    }\n",
       "\n",
       "    .dataframe tbody tr th {\n",
       "        vertical-align: top;\n",
       "    }\n",
       "\n",
       "    .dataframe thead th {\n",
       "        text-align: right;\n",
       "    }\n",
       "</style>\n",
       "<table border=\"1\" class=\"dataframe\">\n",
       "  <thead>\n",
       "    <tr style=\"text-align: right;\">\n",
       "      <th></th>\n",
       "      <th>ApplicantIncome</th>\n",
       "      <th>CoapplicantIncome</th>\n",
       "      <th>LoanAmount</th>\n",
       "      <th>Loan_Amount_Term</th>\n",
       "      <th>Credit_History</th>\n",
       "      <th>Gender</th>\n",
       "      <th>Married</th>\n",
       "      <th>Dependents</th>\n",
       "      <th>Education</th>\n",
       "      <th>Self_Employed</th>\n",
       "      <th>Property_Area</th>\n",
       "    </tr>\n",
       "  </thead>\n",
       "  <tbody>\n",
       "    <tr>\n",
       "      <th>0</th>\n",
       "      <td>0.576316</td>\n",
       "      <td>-0.53427</td>\n",
       "      <td>0.771429</td>\n",
       "      <td>0.0</td>\n",
       "      <td>0.0</td>\n",
       "      <td>-0.023927</td>\n",
       "      <td>0.0</td>\n",
       "      <td>0.0</td>\n",
       "      <td>0.0</td>\n",
       "      <td>0.0</td>\n",
       "      <td>-0.304233</td>\n",
       "    </tr>\n",
       "  </tbody>\n",
       "</table>\n",
       "</div>"
      ],
      "text/plain": [
       "   ApplicantIncome  CoapplicantIncome  LoanAmount  Loan_Amount_Term  \\\n",
       "0         0.576316           -0.53427    0.771429               0.0   \n",
       "\n",
       "   Credit_History    Gender  Married  Dependents  Education  Self_Employed  \\\n",
       "0             0.0 -0.023927      0.0         0.0        0.0            0.0   \n",
       "\n",
       "   Property_Area  \n",
       "0      -0.304233  "
      ]
     },
     "execution_count": 108,
     "metadata": {},
     "output_type": "execute_result"
    }
   ],
   "source": [
    "new_df1"
   ]
  },
  {
   "cell_type": "code",
   "execution_count": 109,
   "id": "c2db4287",
   "metadata": {},
   "outputs": [
    {
     "data": {
      "text/plain": [
       "array([1])"
      ]
     },
     "execution_count": 109,
     "metadata": {},
     "output_type": "execute_result"
    }
   ],
   "source": [
    "prediction2 = rfc_model.predict(new_df1)\n",
    "prediction2"
   ]
  },
  {
   "cell_type": "code",
   "execution_count": 110,
   "id": "5a66a22d",
   "metadata": {},
   "outputs": [
    {
     "name": "stdout",
     "output_type": "stream",
     "text": [
      "Loan pass\n",
      "['Y']\n"
     ]
    }
   ],
   "source": [
    "if prediction2 ==1:\n",
    "    print(\"Loan pass\")\n",
    "else:\n",
    "    print(\"Loan Not Pass\")\n",
    "print(label.inverse_transform(prediction2))"
   ]
  },
  {
   "cell_type": "markdown",
   "id": "f518b9fd",
   "metadata": {},
   "source": [
    "CONCLUSION : From the above all Different Model Random Forest Classification have generated the model with higher accuracy in both defulat model and Hyperperameter tuning. In this Model have no correlation with each other.\n",
    "Here RandomForestClassifier score is : 0.8222222222222222\n"
   ]
  }
 ],
 "metadata": {
  "kernelspec": {
   "display_name": "Python 3 (ipykernel)",
   "language": "python",
   "name": "python3"
  },
  "language_info": {
   "codemirror_mode": {
    "name": "ipython",
    "version": 3
   },
   "file_extension": ".py",
   "mimetype": "text/x-python",
   "name": "python",
   "nbconvert_exporter": "python",
   "pygments_lexer": "ipython3",
   "version": "3.10.9"
  }
 },
 "nbformat": 4,
 "nbformat_minor": 5
}
